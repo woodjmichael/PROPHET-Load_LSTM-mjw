{
 "cells": [
  {
   "cell_type": "markdown",
   "id": "f3a21e50",
   "metadata": {},
   "source": [
    "# Read Forecasts"
   ]
  },
  {
   "cell_type": "code",
   "execution_count": 10,
   "id": "d820fe88",
   "metadata": {},
   "outputs": [],
   "source": [
    "import pandas as pd\n",
    "import configparser\n",
    "\n",
    "config = configparser.ConfigParser()\n",
    "config.read('C:/Users/Admin/Code/PROPHET-Load_LSTM/lstm_forecaster.ini')\n",
    "n_timesteps = config.getint('data_opt', 'n_timesteps')"
   ]
  },
  {
   "cell_type": "code",
   "execution_count": 11,
   "id": "b1f8484a",
   "metadata": {},
   "outputs": [
    {
     "data": {
      "text/html": [
       "<div>\n",
       "<style scoped>\n",
       "    .dataframe tbody tr th:only-of-type {\n",
       "        vertical-align: middle;\n",
       "    }\n",
       "\n",
       "    .dataframe tbody tr th {\n",
       "        vertical-align: top;\n",
       "    }\n",
       "\n",
       "    .dataframe thead th {\n",
       "        text-align: right;\n",
       "    }\n",
       "</style>\n",
       "<table border=\"1\" class=\"dataframe\">\n",
       "  <thead>\n",
       "    <tr style=\"text-align: right;\">\n",
       "      <th></th>\n",
       "      <th>timestamp_forecast_update</th>\n",
       "      <th>timestamp_forecast</th>\n",
       "      <th>predict</th>\n",
       "      <th>persist</th>\n",
       "      <th>load</th>\n",
       "    </tr>\n",
       "  </thead>\n",
       "  <tbody>\n",
       "    <tr>\n",
       "      <th>0</th>\n",
       "      <td>2019-09-13</td>\n",
       "      <td>2019-09-13</td>\n",
       "      <td>0.585481</td>\n",
       "      <td>0.556918</td>\n",
       "      <td>0.554331</td>\n",
       "    </tr>\n",
       "    <tr>\n",
       "      <th>1</th>\n",
       "      <td>2019-09-14</td>\n",
       "      <td>2019-09-14</td>\n",
       "      <td>0.557913</td>\n",
       "      <td>0.509760</td>\n",
       "      <td>0.475878</td>\n",
       "    </tr>\n",
       "    <tr>\n",
       "      <th>2</th>\n",
       "      <td>2019-09-15</td>\n",
       "      <td>2019-09-15</td>\n",
       "      <td>0.476820</td>\n",
       "      <td>0.338624</td>\n",
       "      <td>0.383797</td>\n",
       "    </tr>\n",
       "    <tr>\n",
       "      <th>3</th>\n",
       "      <td>2019-09-16</td>\n",
       "      <td>2019-09-16</td>\n",
       "      <td>0.404428</td>\n",
       "      <td>0.529883</td>\n",
       "      <td>0.596332</td>\n",
       "    </tr>\n",
       "    <tr>\n",
       "      <th>4</th>\n",
       "      <td>2019-09-17</td>\n",
       "      <td>2019-09-17</td>\n",
       "      <td>0.599193</td>\n",
       "      <td>0.525415</td>\n",
       "      <td>0.595295</td>\n",
       "    </tr>\n",
       "    <tr>\n",
       "      <th>...</th>\n",
       "      <td>...</td>\n",
       "      <td>...</td>\n",
       "      <td>...</td>\n",
       "      <td>...</td>\n",
       "      <td>...</td>\n",
       "    </tr>\n",
       "    <tr>\n",
       "      <th>102</th>\n",
       "      <td>2019-12-24</td>\n",
       "      <td>2019-12-24</td>\n",
       "      <td>0.653666</td>\n",
       "      <td>0.707321</td>\n",
       "      <td>0.710890</td>\n",
       "    </tr>\n",
       "    <tr>\n",
       "      <th>103</th>\n",
       "      <td>2019-12-25</td>\n",
       "      <td>2019-12-25</td>\n",
       "      <td>0.707750</td>\n",
       "      <td>0.734613</td>\n",
       "      <td>0.716163</td>\n",
       "    </tr>\n",
       "    <tr>\n",
       "      <th>104</th>\n",
       "      <td>2019-12-26</td>\n",
       "      <td>2019-12-26</td>\n",
       "      <td>0.712486</td>\n",
       "      <td>0.735433</td>\n",
       "      <td>0.684824</td>\n",
       "    </tr>\n",
       "    <tr>\n",
       "      <th>105</th>\n",
       "      <td>2019-12-27</td>\n",
       "      <td>2019-12-27</td>\n",
       "      <td>0.683565</td>\n",
       "      <td>0.706836</td>\n",
       "      <td>0.725218</td>\n",
       "    </tr>\n",
       "    <tr>\n",
       "      <th>106</th>\n",
       "      <td>2019-12-28</td>\n",
       "      <td>2019-12-28</td>\n",
       "      <td>0.718276</td>\n",
       "      <td>0.648517</td>\n",
       "      <td>0.680902</td>\n",
       "    </tr>\n",
       "  </tbody>\n",
       "</table>\n",
       "<p>107 rows × 5 columns</p>\n",
       "</div>"
      ],
      "text/plain": [
       "    timestamp_forecast_update timestamp_forecast   predict   persist      load\n",
       "0                  2019-09-13         2019-09-13  0.585481  0.556918  0.554331\n",
       "1                  2019-09-14         2019-09-14  0.557913  0.509760  0.475878\n",
       "2                  2019-09-15         2019-09-15  0.476820  0.338624  0.383797\n",
       "3                  2019-09-16         2019-09-16  0.404428  0.529883  0.596332\n",
       "4                  2019-09-17         2019-09-17  0.599193  0.525415  0.595295\n",
       "..                        ...                ...       ...       ...       ...\n",
       "102                2019-12-24         2019-12-24  0.653666  0.707321  0.710890\n",
       "103                2019-12-25         2019-12-25  0.707750  0.734613  0.716163\n",
       "104                2019-12-26         2019-12-26  0.712486  0.735433  0.684824\n",
       "105                2019-12-27         2019-12-27  0.683565  0.706836  0.725218\n",
       "106                2019-12-28         2019-12-28  0.718276  0.648517  0.680902\n",
       "\n",
       "[107 rows x 5 columns]"
      ]
     },
     "execution_count": 11,
     "metadata": {},
     "output_type": "execute_result"
    }
   ],
   "source": [
    "forecast_filename = 'test_forecasts_25541525.csv'\n",
    "\n",
    "df = pd.read_csv(r'C:/Users/Admin/Code/PROPHET-Load_LSTM/data/output/impianto_4/peak/'+forecast_filename,\n",
    "                 index_col=0,\n",
    "                 parse_dates=['timestamp_forecast_update','timestamp_forecast'])\n",
    "\n",
    "df = df.rename(columns={'predicted_activepower_ev_1':'predict',\n",
    "                        'PotenzaMax':'load'})\n",
    "\n",
    "df #[df.timestamp_forecast_update=='2019-9-13']"
   ]
  },
  {
   "cell_type": "markdown",
   "id": "a935a840",
   "metadata": {},
   "source": [
    "To match the test code, resample to 4-hourly forecast updates"
   ]
  },
  {
   "cell_type": "code",
   "execution_count": 12,
   "id": "f31d634f",
   "metadata": {},
   "outputs": [],
   "source": [
    "# idx = pd.date_range('2019-9-13 0:00','2019-12-27 23:00',freq='4h')\n",
    "# df = df.loc[df.timestamp_forecast_update.isin(idx)].copy()\n",
    "# df"
   ]
  },
  {
   "cell_type": "markdown",
   "id": "9b422118",
   "metadata": {},
   "source": [
    "Checks"
   ]
  },
  {
   "cell_type": "code",
   "execution_count": 13,
   "id": "a44ce411",
   "metadata": {},
   "outputs": [],
   "source": [
    "assert df.loc[(df.persist-df.load)==0,:].shape[0] == 0 # is persist perfect?\n",
    "assert df.isna().sum().sum() == 0 # any nans?\n",
    "for t in df.timestamp_forecast_update.unique(): # completeness?\n",
    "    assert df.loc[df.timestamp_forecast_update==t,:].shape[0] == n_timesteps"
   ]
  },
  {
   "cell_type": "markdown",
   "id": "cd65a8b9",
   "metadata": {},
   "source": [
    "# Load"
   ]
  },
  {
   "cell_type": "markdown",
   "id": "06f4ffe8",
   "metadata": {},
   "source": [
    "Errors"
   ]
  },
  {
   "cell_type": "code",
   "execution_count": 14,
   "id": "0bf3253a",
   "metadata": {},
   "outputs": [
    {
     "name": "stdout",
     "output_type": "stream",
     "text": [
      "MAE%: pers 3.70 pred 6.15\n",
      "Skill%: -66.088\n"
     ]
    }
   ],
   "source": [
    "mae_pers = (df.persist-df.load).abs().mean()\n",
    "mae_pred = (df.predict-df.load).abs().mean()\n",
    "skill = (1 - mae_pred / mae_pers)\n",
    "\n",
    "print(f'MAE%: pers {100*mae_pers:.2f} pred {100*mae_pred:.2f}')\n",
    "print(f'Skill%: {100*skill:.3f}')"
   ]
  },
  {
   "cell_type": "markdown",
   "id": "2a92c286",
   "metadata": {},
   "source": [
    "Fraction of positive skills"
   ]
  },
  {
   "cell_type": "code",
   "execution_count": 15,
   "id": "75a483a1",
   "metadata": {},
   "outputs": [
    {
     "data": {
      "text/plain": [
       "0.45794392523364486"
      ]
     },
     "execution_count": 15,
     "metadata": {},
     "output_type": "execute_result"
    }
   ],
   "source": [
    "skills = 1 - (df.load - df.predict).abs() / \\\n",
    "              (df.load - df.persist).abs()\n",
    "              \n",
    "len(skills[skills>0]) / len(skills)"
   ]
  },
  {
   "cell_type": "markdown",
   "id": "ae5ca336",
   "metadata": {},
   "source": [
    "Fraction of postive skills (for each `timestamp_update`)"
   ]
  },
  {
   "cell_type": "code",
   "execution_count": 16,
   "id": "b6bb6e62",
   "metadata": {},
   "outputs": [
    {
     "data": {
      "text/plain": [
       "0.45794392523364486"
      ]
     },
     "execution_count": 16,
     "metadata": {},
     "output_type": "execute_result"
    }
   ],
   "source": [
    "skills = [] \n",
    "\n",
    "for t in df.timestamp_forecast_update.unique():\n",
    "    forecast_now = df.loc[df.timestamp_forecast_update==t]\n",
    "    test_mae_pers_now = (forecast_now.persist-forecast_now.load).abs().mean()\n",
    "    test_mae_pred_now = (forecast_now.predict-forecast_now.load).abs().mean()\n",
    "    test_skill_now = 1 - test_mae_pred_now / test_mae_pers_now\n",
    "    skills.append( test_skill_now )\n",
    "    \n",
    "len([x for x in skills if x > 0])/len(skills)\n"
   ]
  },
  {
   "cell_type": "markdown",
   "id": "cbb3ea17",
   "metadata": {},
   "source": [
    "Percentage of postive skills (for each `timestamp_forecast_update` at 0:00)"
   ]
  },
  {
   "cell_type": "code",
   "execution_count": 17,
   "id": "63294f65",
   "metadata": {},
   "outputs": [
    {
     "data": {
      "text/plain": [
       "0.45794392523364486"
      ]
     },
     "execution_count": 17,
     "metadata": {},
     "output_type": "execute_result"
    }
   ],
   "source": [
    "skills = [] \n",
    "\n",
    "for t in df.timestamp_forecast_update.unique():\n",
    "    if t.hour == 0 and t.minute == 0:\n",
    "        forecast_now = df.loc[df.timestamp_forecast_update==t]\n",
    "        test_mae_pers_now = (forecast_now.persist-forecast_now.load).abs().mean()\n",
    "        test_mae_pred_now = (forecast_now.predict-forecast_now.load).abs().mean()\n",
    "        test_skill_now = 1 - test_mae_pred_now / test_mae_pers_now\n",
    "        skills.append( test_skill_now )\n",
    "    \n",
    "len([x for x in skills if x > 0])/len(skills)\n"
   ]
  },
  {
   "cell_type": "markdown",
   "id": "8aab850b",
   "metadata": {},
   "source": [
    "# Peaks"
   ]
  },
  {
   "cell_type": "code",
   "execution_count": 18,
   "id": "01ff9a7b",
   "metadata": {},
   "outputs": [
    {
     "data": {
      "text/html": [
       "<div>\n",
       "<style scoped>\n",
       "    .dataframe tbody tr th:only-of-type {\n",
       "        vertical-align: middle;\n",
       "    }\n",
       "\n",
       "    .dataframe tbody tr th {\n",
       "        vertical-align: top;\n",
       "    }\n",
       "\n",
       "    .dataframe thead th {\n",
       "        text-align: right;\n",
       "    }\n",
       "</style>\n",
       "<table border=\"1\" class=\"dataframe\">\n",
       "  <thead>\n",
       "    <tr style=\"text-align: right;\">\n",
       "      <th></th>\n",
       "      <th>predict</th>\n",
       "      <th>persist</th>\n",
       "      <th>load</th>\n",
       "    </tr>\n",
       "    <tr>\n",
       "      <th>timestamp_forecast</th>\n",
       "      <th></th>\n",
       "      <th></th>\n",
       "      <th></th>\n",
       "    </tr>\n",
       "  </thead>\n",
       "  <tbody>\n",
       "    <tr>\n",
       "      <th>2019-09-13</th>\n",
       "      <td>0.585481</td>\n",
       "      <td>0.556918</td>\n",
       "      <td>0.554331</td>\n",
       "    </tr>\n",
       "    <tr>\n",
       "      <th>2019-09-14</th>\n",
       "      <td>0.557913</td>\n",
       "      <td>0.509760</td>\n",
       "      <td>0.475878</td>\n",
       "    </tr>\n",
       "    <tr>\n",
       "      <th>2019-09-15</th>\n",
       "      <td>0.476820</td>\n",
       "      <td>0.338624</td>\n",
       "      <td>0.383797</td>\n",
       "    </tr>\n",
       "    <tr>\n",
       "      <th>2019-09-16</th>\n",
       "      <td>0.404428</td>\n",
       "      <td>0.529883</td>\n",
       "      <td>0.596332</td>\n",
       "    </tr>\n",
       "    <tr>\n",
       "      <th>2019-09-17</th>\n",
       "      <td>0.599193</td>\n",
       "      <td>0.525415</td>\n",
       "      <td>0.595295</td>\n",
       "    </tr>\n",
       "    <tr>\n",
       "      <th>...</th>\n",
       "      <td>...</td>\n",
       "      <td>...</td>\n",
       "      <td>...</td>\n",
       "    </tr>\n",
       "    <tr>\n",
       "      <th>2019-12-24</th>\n",
       "      <td>0.653666</td>\n",
       "      <td>0.707321</td>\n",
       "      <td>0.710890</td>\n",
       "    </tr>\n",
       "    <tr>\n",
       "      <th>2019-12-25</th>\n",
       "      <td>0.707750</td>\n",
       "      <td>0.734613</td>\n",
       "      <td>0.716163</td>\n",
       "    </tr>\n",
       "    <tr>\n",
       "      <th>2019-12-26</th>\n",
       "      <td>0.712486</td>\n",
       "      <td>0.735433</td>\n",
       "      <td>0.684824</td>\n",
       "    </tr>\n",
       "    <tr>\n",
       "      <th>2019-12-27</th>\n",
       "      <td>0.683565</td>\n",
       "      <td>0.706836</td>\n",
       "      <td>0.725218</td>\n",
       "    </tr>\n",
       "    <tr>\n",
       "      <th>2019-12-28</th>\n",
       "      <td>0.718276</td>\n",
       "      <td>0.648517</td>\n",
       "      <td>0.680902</td>\n",
       "    </tr>\n",
       "  </tbody>\n",
       "</table>\n",
       "<p>107 rows × 3 columns</p>\n",
       "</div>"
      ],
      "text/plain": [
       "                     predict   persist      load\n",
       "timestamp_forecast                              \n",
       "2019-09-13          0.585481  0.556918  0.554331\n",
       "2019-09-14          0.557913  0.509760  0.475878\n",
       "2019-09-15          0.476820  0.338624  0.383797\n",
       "2019-09-16          0.404428  0.529883  0.596332\n",
       "2019-09-17          0.599193  0.525415  0.595295\n",
       "...                      ...       ...       ...\n",
       "2019-12-24          0.653666  0.707321  0.710890\n",
       "2019-12-25          0.707750  0.734613  0.716163\n",
       "2019-12-26          0.712486  0.735433  0.684824\n",
       "2019-12-27          0.683565  0.706836  0.725218\n",
       "2019-12-28          0.718276  0.648517  0.680902\n",
       "\n",
       "[107 rows x 3 columns]"
      ]
     },
     "execution_count": 18,
     "metadata": {},
     "output_type": "execute_result"
    }
   ],
   "source": [
    "df = df.loc[(df.timestamp_forecast_update.dt.hour==0)&(df.timestamp_forecast_update.dt.minute==0)]\n",
    "\n",
    "df_daily = pd.DataFrame()\n",
    "for t in df.timestamp_forecast_update.unique():\n",
    "    df_daily = pd.concat((df_daily,\n",
    "                        df.loc[df.timestamp_forecast_update==t].iloc[:96,:]\\\n",
    "                            .drop(columns=['timestamp_forecast_update'])))\n",
    "df = df_daily.set_index('timestamp_forecast').copy()\n",
    "\n",
    "df"
   ]
  },
  {
   "cell_type": "code",
   "execution_count": 19,
   "id": "501d83e8",
   "metadata": {},
   "outputs": [],
   "source": [
    "dfp = df.resample('1d').max()"
   ]
  },
  {
   "cell_type": "code",
   "execution_count": 20,
   "id": "8c187852",
   "metadata": {},
   "outputs": [
    {
     "data": {
      "text/plain": [
       "timestamp_forecast\n",
       "2019-09-13    0\n",
       "2019-09-14    0\n",
       "2019-09-15    0\n",
       "2019-09-16    0\n",
       "2019-09-17    0\n",
       "             ..\n",
       "2019-12-24    0\n",
       "2019-12-25    0\n",
       "2019-12-26    0\n",
       "2019-12-27    0\n",
       "2019-12-28    0\n",
       "Freq: D, Length: 107, dtype: int64"
      ]
     },
     "execution_count": 20,
     "metadata": {},
     "output_type": "execute_result"
    }
   ],
   "source": [
    "df.resample('1d').apply(lambda x: x['load'].idxmax().hour)"
   ]
  },
  {
   "cell_type": "markdown",
   "id": "1b88e145",
   "metadata": {},
   "source": [
    "## Load"
   ]
  },
  {
   "cell_type": "code",
   "execution_count": 21,
   "id": "ef681ae1",
   "metadata": {},
   "outputs": [
    {
     "name": "stdout",
     "output_type": "stream",
     "text": [
      "MAE%: pers=3.70 pred=6.15\n",
      "Skill%: -66.09\n"
     ]
    }
   ],
   "source": [
    "mae_pers = (dfp.load - dfp.persist).abs().mean()\n",
    "mae_pred = (dfp.load - dfp.predict).abs().mean()\n",
    "skill = 1 - mae_pred / mae_pers\n",
    "\n",
    "print(f'MAE%: pers={100*mae_pers:.2f} pred={100*mae_pred:.2f}')\n",
    "print(f'Skill%: {100*skill:.2f}')"
   ]
  },
  {
   "cell_type": "markdown",
   "id": "02831046",
   "metadata": {},
   "source": [
    "## Hour"
   ]
  },
  {
   "cell_type": "code",
   "execution_count": 22,
   "id": "b2073377",
   "metadata": {},
   "outputs": [],
   "source": [
    "dfp['hour'] =         df.resample('1d').apply(lambda x: x['load'].idxmax().hour)\n",
    "dfp['persist_hour'] = df.resample('1d').apply(lambda x: x['persist'].idxmax().hour)\n",
    "dfp['predict_hour'] = df.resample('1d').apply(lambda x: x['predict'].idxmax().hour)"
   ]
  },
  {
   "cell_type": "code",
   "execution_count": 23,
   "id": "52a363c3",
   "metadata": {},
   "outputs": [
    {
     "name": "stdout",
     "output_type": "stream",
     "text": [
      "ACC%: pers=100.00 pred=100.00\n",
      "Skill%: 0.00\n"
     ]
    }
   ],
   "source": [
    "acc_pers = (dfp.hour == dfp.persist_hour).sum() / len(dfp)\n",
    "acc_pred = (dfp.hour == dfp.predict_hour).sum() / len(dfp)\n",
    "skill = 1 - acc_pers / acc_pred\n",
    "\n",
    "print(f'ACC%: pers={100*acc_pers:.2f} pred={100*acc_pred:.2f}')\n",
    "print(f'Skill%: {100*skill:.2f}')"
   ]
  }
 ],
 "metadata": {
  "kernelspec": {
   "display_name": "base",
   "language": "python",
   "name": "python3"
  },
  "language_info": {
   "codemirror_mode": {
    "name": "ipython",
    "version": 3
   },
   "file_extension": ".py",
   "mimetype": "text/x-python",
   "name": "python",
   "nbconvert_exporter": "python",
   "pygments_lexer": "ipython3",
   "version": "3.11.9"
  }
 },
 "nbformat": 4,
 "nbformat_minor": 5
}
