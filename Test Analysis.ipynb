{
 "cells": [
  {
   "cell_type": "markdown",
   "id": "f3a21e50",
   "metadata": {},
   "source": [
    "# Read Forecasts"
   ]
  },
  {
   "cell_type": "code",
   "execution_count": 1,
   "id": "d820fe88",
   "metadata": {},
   "outputs": [],
   "source": [
    "import pandas as pd\n",
    "import configparser\n",
    "\n",
    "config = configparser.ConfigParser()\n",
    "config.read('C:/Users/Admin/Code/PROPHET-Load_LSTM/lstm_forecaster.ini')\n",
    "n_timesteps = config.getint('data_opt', 'n_timesteps')"
   ]
  },
  {
   "cell_type": "markdown",
   "id": "3a9603cd",
   "metadata": {},
   "source": [
    "# Load"
   ]
  },
  {
   "cell_type": "code",
   "execution_count": 3,
   "id": "b1f8484a",
   "metadata": {},
   "outputs": [
    {
     "data": {
      "text/html": [
       "<div>\n",
       "<style scoped>\n",
       "    .dataframe tbody tr th:only-of-type {\n",
       "        vertical-align: middle;\n",
       "    }\n",
       "\n",
       "    .dataframe tbody tr th {\n",
       "        vertical-align: top;\n",
       "    }\n",
       "\n",
       "    .dataframe thead th {\n",
       "        text-align: right;\n",
       "    }\n",
       "</style>\n",
       "<table border=\"1\" class=\"dataframe\">\n",
       "  <thead>\n",
       "    <tr style=\"text-align: right;\">\n",
       "      <th></th>\n",
       "      <th>timestamp_forecast_update</th>\n",
       "      <th>timestamp_forecast</th>\n",
       "      <th>predict</th>\n",
       "      <th>persist</th>\n",
       "      <th>load</th>\n",
       "    </tr>\n",
       "  </thead>\n",
       "  <tbody>\n",
       "    <tr>\n",
       "      <th>0</th>\n",
       "      <td>2019-09-13</td>\n",
       "      <td>2019-09-13 00:00:00</td>\n",
       "      <td>15.639225</td>\n",
       "      <td>17.367902</td>\n",
       "      <td>16.055685</td>\n",
       "    </tr>\n",
       "    <tr>\n",
       "      <th>1</th>\n",
       "      <td>2019-09-13</td>\n",
       "      <td>2019-09-13 00:15:00</td>\n",
       "      <td>16.267834</td>\n",
       "      <td>16.910835</td>\n",
       "      <td>16.141277</td>\n",
       "    </tr>\n",
       "    <tr>\n",
       "      <th>2</th>\n",
       "      <td>2019-09-13</td>\n",
       "      <td>2019-09-13 00:30:00</td>\n",
       "      <td>16.590502</td>\n",
       "      <td>17.360092</td>\n",
       "      <td>15.887679</td>\n",
       "    </tr>\n",
       "    <tr>\n",
       "      <th>3</th>\n",
       "      <td>2019-09-13</td>\n",
       "      <td>2019-09-13 00:45:00</td>\n",
       "      <td>16.768347</td>\n",
       "      <td>16.807852</td>\n",
       "      <td>16.271505</td>\n",
       "    </tr>\n",
       "    <tr>\n",
       "      <th>4</th>\n",
       "      <td>2019-09-13</td>\n",
       "      <td>2019-09-13 01:00:00</td>\n",
       "      <td>16.874498</td>\n",
       "      <td>17.059452</td>\n",
       "      <td>15.876782</td>\n",
       "    </tr>\n",
       "    <tr>\n",
       "      <th>...</th>\n",
       "      <td>...</td>\n",
       "      <td>...</td>\n",
       "      <td>...</td>\n",
       "      <td>...</td>\n",
       "      <td>...</td>\n",
       "    </tr>\n",
       "    <tr>\n",
       "      <th>139</th>\n",
       "      <td>2019-09-13</td>\n",
       "      <td>2019-09-14 10:45:00</td>\n",
       "      <td>17.251640</td>\n",
       "      <td>12.785610</td>\n",
       "      <td>10.566479</td>\n",
       "    </tr>\n",
       "    <tr>\n",
       "      <th>140</th>\n",
       "      <td>2019-09-13</td>\n",
       "      <td>2019-09-14 11:00:00</td>\n",
       "      <td>17.251640</td>\n",
       "      <td>12.615742</td>\n",
       "      <td>10.512808</td>\n",
       "    </tr>\n",
       "    <tr>\n",
       "      <th>141</th>\n",
       "      <td>2019-09-13</td>\n",
       "      <td>2019-09-14 11:15:00</td>\n",
       "      <td>17.251640</td>\n",
       "      <td>12.541457</td>\n",
       "      <td>10.074268</td>\n",
       "    </tr>\n",
       "    <tr>\n",
       "      <th>142</th>\n",
       "      <td>2019-09-13</td>\n",
       "      <td>2019-09-14 11:30:00</td>\n",
       "      <td>17.251640</td>\n",
       "      <td>12.618648</td>\n",
       "      <td>9.529883</td>\n",
       "    </tr>\n",
       "    <tr>\n",
       "      <th>143</th>\n",
       "      <td>2019-09-13</td>\n",
       "      <td>2019-09-14 11:45:00</td>\n",
       "      <td>17.251640</td>\n",
       "      <td>12.012783</td>\n",
       "      <td>9.366236</td>\n",
       "    </tr>\n",
       "  </tbody>\n",
       "</table>\n",
       "<p>144 rows × 5 columns</p>\n",
       "</div>"
      ],
      "text/plain": [
       "    timestamp_forecast_update  timestamp_forecast    predict    persist  \\\n",
       "0                  2019-09-13 2019-09-13 00:00:00  15.639225  17.367902   \n",
       "1                  2019-09-13 2019-09-13 00:15:00  16.267834  16.910835   \n",
       "2                  2019-09-13 2019-09-13 00:30:00  16.590502  17.360092   \n",
       "3                  2019-09-13 2019-09-13 00:45:00  16.768347  16.807852   \n",
       "4                  2019-09-13 2019-09-13 01:00:00  16.874498  17.059452   \n",
       "..                        ...                 ...        ...        ...   \n",
       "139                2019-09-13 2019-09-14 10:45:00  17.251640  12.785610   \n",
       "140                2019-09-13 2019-09-14 11:00:00  17.251640  12.615742   \n",
       "141                2019-09-13 2019-09-14 11:15:00  17.251640  12.541457   \n",
       "142                2019-09-13 2019-09-14 11:30:00  17.251640  12.618648   \n",
       "143                2019-09-13 2019-09-14 11:45:00  17.251640  12.012783   \n",
       "\n",
       "          load  \n",
       "0    16.055685  \n",
       "1    16.141277  \n",
       "2    15.887679  \n",
       "3    16.271505  \n",
       "4    15.876782  \n",
       "..         ...  \n",
       "139  10.566479  \n",
       "140  10.512808  \n",
       "141  10.074268  \n",
       "142   9.529883  \n",
       "143   9.366236  \n",
       "\n",
       "[144 rows x 5 columns]"
      ]
     },
     "execution_count": 3,
     "metadata": {},
     "output_type": "execute_result"
    }
   ],
   "source": [
    "proj_dir = r'C:/Users/Admin/Code/PROPHET-Load_LSTM/'\n",
    "out_dir = r'data/output/impianto_4/u576_nb480_d1/'\n",
    "#out_dir = r'data/output/impianto_4/peak/hp_search/'\n",
    "\n",
    "forecast_filename = 'test_forecasts_debug.csv'\n",
    "\n",
    "df = pd.read_csv(proj_dir + out_dir + forecast_filename,\n",
    "                 index_col=0,\n",
    "                 parse_dates=['timestamp_forecast_update','timestamp_forecast'])\n",
    "\n",
    "df = df.rename(columns={'predicted_activepower_ev_1':'predict',\n",
    "                        'power':'load'})\n",
    "\n",
    "df #[df.timestamp_forecast_update=='2019-9-13']"
   ]
  },
  {
   "cell_type": "code",
   "execution_count": 11,
   "id": "8124c743",
   "metadata": {},
   "outputs": [
    {
     "data": {
      "text/plain": [
       "<Axes: xlabel='timestamp_forecast'>"
      ]
     },
     "execution_count": 11,
     "metadata": {},
     "output_type": "execute_result"
    },
    {
     "data": {
      "image/png": "[encoded data removed]",
      "text/plain": [
       "<Figure size 1000x600 with 1 Axes>"
      ]
     },
     "metadata": {},
     "output_type": "display_data"
    }
   ],
   "source": [
    "df.plot(x='timestamp_forecast',y=['load','persist','predict'],legend=True,figsize=(10,6))"
   ]
  },
  {
   "cell_type": "markdown",
   "id": "a935a840",
   "metadata": {},
   "source": [
    "To match the test code, resample to 4-hourly forecast updates"
   ]
  },
  {
   "cell_type": "code",
   "execution_count": 12,
   "id": "f31d634f",
   "metadata": {},
   "outputs": [],
   "source": [
    "# idx = pd.date_range('2019-9-13 0:00','2019-12-27 23:00',freq='4h')\n",
    "# df = df.loc[df.timestamp_forecast_update.isin(idx)].copy()\n",
    "# df"
   ]
  },
  {
   "cell_type": "markdown",
   "id": "9b422118",
   "metadata": {},
   "source": [
    "Checks"
   ]
  },
  {
   "cell_type": "code",
   "execution_count": 4,
   "id": "a44ce411",
   "metadata": {},
   "outputs": [],
   "source": [
    "assert df.loc[(df.persist-df.load)==0,:].shape[0] == 0 # is persist perfect?\n",
    "assert df.isna().sum().sum() == 0 # any nans?\n",
    "for t in df.timestamp_forecast_update.unique(): # completeness?\n",
    "    assert df.loc[df.timestamp_forecast_update==t,:].shape[0] == 144 #n_timesteps"
   ]
  },
  {
   "cell_type": "markdown",
   "id": "06f4ffe8",
   "metadata": {},
   "source": [
    "Errors"
   ]
  },
  {
   "cell_type": "code",
   "execution_count": 5,
   "id": "0bf3253a",
   "metadata": {},
   "outputs": [
    {
     "name": "stdout",
     "output_type": "stream",
     "text": [
      "MAE%: pers 118.51 pred 220.89\n",
      "Skill%: -86.386\n"
     ]
    }
   ],
   "source": [
    "mae_pers = (df.persist-df.load).abs().mean()\n",
    "mae_pred = (df.predict-df.load).abs().mean()\n",
    "skill = (1 - mae_pred / mae_pers)\n",
    "\n",
    "print(f'MAE%: pers {100*mae_pers:.2f} pred {100*mae_pred:.2f}')\n",
    "print(f'Skill%: {100*skill:.3f}')"
   ]
  },
  {
   "cell_type": "markdown",
   "id": "2a92c286",
   "metadata": {},
   "source": [
    "Fraction of positive skills"
   ]
  },
  {
   "cell_type": "code",
   "execution_count": 15,
   "id": "75a483a1",
   "metadata": {},
   "outputs": [
    {
     "data": {
      "text/plain": [
       "0.517871571453529"
      ]
     },
     "execution_count": 15,
     "metadata": {},
     "output_type": "execute_result"
    }
   ],
   "source": [
    "skills = 1 - (df.load - df.predict).abs() / \\\n",
    "              (df.load - df.persist).abs()\n",
    "              \n",
    "len(skills[skills>0]) / len(skills)"
   ]
  },
  {
   "cell_type": "markdown",
   "id": "ae5ca336",
   "metadata": {},
   "source": [
    "Fraction of postive skills (for each `timestamp_update`)"
   ]
  },
  {
   "cell_type": "code",
   "execution_count": 7,
   "id": "b6bb6e62",
   "metadata": {},
   "outputs": [
    {
     "data": {
      "text/plain": [
       "0.5699685534591195"
      ]
     },
     "execution_count": 7,
     "metadata": {},
     "output_type": "execute_result"
    }
   ],
   "source": [
    "skills = [] \n",
    "\n",
    "for t in df.timestamp_forecast_update.unique():\n",
    "    forecast_now = df.loc[df.timestamp_forecast_update==t]\n",
    "    test_mae_pers_now = (forecast_now.persist-forecast_now.load).abs().mean()\n",
    "    test_mae_pred_now = (forecast_now.predict-forecast_now.load).abs().mean()\n",
    "    test_skill_now = 1 - test_mae_pred_now / test_mae_pers_now\n",
    "    skills.append( test_skill_now )\n",
    "    \n",
    "len([x for x in skills if x > 0])/len(skills)\n"
   ]
  },
  {
   "cell_type": "markdown",
   "id": "cbb3ea17",
   "metadata": {},
   "source": [
    "Percentage of postive skills (for each `timestamp_forecast_update` at 0:00)"
   ]
  },
  {
   "cell_type": "code",
   "execution_count": 8,
   "id": "63294f65",
   "metadata": {},
   "outputs": [
    {
     "data": {
      "text/plain": [
       "0.6037735849056604"
      ]
     },
     "execution_count": 8,
     "metadata": {},
     "output_type": "execute_result"
    }
   ],
   "source": [
    "skills = [] \n",
    "\n",
    "for t in df.timestamp_forecast_update.unique():\n",
    "    if t.hour == 0 and t.minute == 0:\n",
    "        forecast_now = df.loc[df.timestamp_forecast_update==t]\n",
    "        test_mae_pers_now = (forecast_now.persist-forecast_now.load).abs().mean()\n",
    "        test_mae_pred_now = (forecast_now.predict-forecast_now.load).abs().mean()\n",
    "        test_skill_now = 1 - test_mae_pred_now / test_mae_pers_now\n",
    "        skills.append( test_skill_now )\n",
    "    \n",
    "len([x for x in skills if x > 0])/len(skills)\n"
   ]
  },
  {
   "cell_type": "markdown",
   "id": "8aab850b",
   "metadata": {},
   "source": [
    "# Peaks"
   ]
  },
  {
   "cell_type": "markdown",
   "id": "f0291253",
   "metadata": {},
   "source": [
    "Goal is just the midnight update day-ahead peak load"
   ]
  },
  {
   "cell_type": "code",
   "execution_count": 10,
   "id": "3f6c2ce6",
   "metadata": {},
   "outputs": [
    {
     "data": {
      "text/html": [
       "<div>\n",
       "<style scoped>\n",
       "    .dataframe tbody tr th:only-of-type {\n",
       "        vertical-align: middle;\n",
       "    }\n",
       "\n",
       "    .dataframe tbody tr th {\n",
       "        vertical-align: top;\n",
       "    }\n",
       "\n",
       "    .dataframe thead th {\n",
       "        text-align: right;\n",
       "    }\n",
       "</style>\n",
       "<table border=\"1\" class=\"dataframe\">\n",
       "  <thead>\n",
       "    <tr style=\"text-align: right;\">\n",
       "      <th></th>\n",
       "      <th>timestamp_forecast_update</th>\n",
       "      <th>timestamp_forecast</th>\n",
       "      <th>predict</th>\n",
       "      <th>persist</th>\n",
       "      <th>load</th>\n",
       "    </tr>\n",
       "  </thead>\n",
       "  <tbody>\n",
       "    <tr>\n",
       "      <th>0</th>\n",
       "      <td>2019-09-13 00:00:00</td>\n",
       "      <td>2019-09-13 00:00:00</td>\n",
       "      <td>0.582792</td>\n",
       "      <td>0.556918</td>\n",
       "      <td>0.554331</td>\n",
       "    </tr>\n",
       "    <tr>\n",
       "      <th>1</th>\n",
       "      <td>2019-09-13 01:00:00</td>\n",
       "      <td>2019-09-13 01:00:00</td>\n",
       "      <td>0.553733</td>\n",
       "      <td>0.556918</td>\n",
       "      <td>0.554331</td>\n",
       "    </tr>\n",
       "    <tr>\n",
       "      <th>2</th>\n",
       "      <td>2019-09-13 02:00:00</td>\n",
       "      <td>2019-09-13 02:00:00</td>\n",
       "      <td>0.552849</td>\n",
       "      <td>0.556918</td>\n",
       "      <td>0.554331</td>\n",
       "    </tr>\n",
       "    <tr>\n",
       "      <th>3</th>\n",
       "      <td>2019-09-13 03:00:00</td>\n",
       "      <td>2019-09-13 03:00:00</td>\n",
       "      <td>0.552641</td>\n",
       "      <td>0.556918</td>\n",
       "      <td>0.554331</td>\n",
       "    </tr>\n",
       "    <tr>\n",
       "      <th>4</th>\n",
       "      <td>2019-09-13 04:00:00</td>\n",
       "      <td>2019-09-13 04:00:00</td>\n",
       "      <td>0.552756</td>\n",
       "      <td>0.556918</td>\n",
       "      <td>0.554331</td>\n",
       "    </tr>\n",
       "    <tr>\n",
       "      <th>...</th>\n",
       "      <td>...</td>\n",
       "      <td>...</td>\n",
       "      <td>...</td>\n",
       "      <td>...</td>\n",
       "      <td>...</td>\n",
       "    </tr>\n",
       "    <tr>\n",
       "      <th>2539</th>\n",
       "      <td>2019-12-27 19:00:00</td>\n",
       "      <td>2019-12-27 19:00:00</td>\n",
       "      <td>0.715846</td>\n",
       "      <td>0.706836</td>\n",
       "      <td>0.725218</td>\n",
       "    </tr>\n",
       "    <tr>\n",
       "      <th>2540</th>\n",
       "      <td>2019-12-27 20:00:00</td>\n",
       "      <td>2019-12-27 20:00:00</td>\n",
       "      <td>0.715918</td>\n",
       "      <td>0.706836</td>\n",
       "      <td>0.725218</td>\n",
       "    </tr>\n",
       "    <tr>\n",
       "      <th>2541</th>\n",
       "      <td>2019-12-27 21:00:00</td>\n",
       "      <td>2019-12-27 21:00:00</td>\n",
       "      <td>0.715256</td>\n",
       "      <td>0.706836</td>\n",
       "      <td>0.725218</td>\n",
       "    </tr>\n",
       "    <tr>\n",
       "      <th>2542</th>\n",
       "      <td>2019-12-27 22:00:00</td>\n",
       "      <td>2019-12-27 22:00:00</td>\n",
       "      <td>0.713857</td>\n",
       "      <td>0.706836</td>\n",
       "      <td>0.725218</td>\n",
       "    </tr>\n",
       "    <tr>\n",
       "      <th>2543</th>\n",
       "      <td>2019-12-27 23:00:00</td>\n",
       "      <td>2019-12-27 23:00:00</td>\n",
       "      <td>0.713081</td>\n",
       "      <td>0.706836</td>\n",
       "      <td>0.725218</td>\n",
       "    </tr>\n",
       "  </tbody>\n",
       "</table>\n",
       "<p>2544 rows × 5 columns</p>\n",
       "</div>"
      ],
      "text/plain": [
       "     timestamp_forecast_update  timestamp_forecast   predict   persist  \\\n",
       "0          2019-09-13 00:00:00 2019-09-13 00:00:00  0.582792  0.556918   \n",
       "1          2019-09-13 01:00:00 2019-09-13 01:00:00  0.553733  0.556918   \n",
       "2          2019-09-13 02:00:00 2019-09-13 02:00:00  0.552849  0.556918   \n",
       "3          2019-09-13 03:00:00 2019-09-13 03:00:00  0.552641  0.556918   \n",
       "4          2019-09-13 04:00:00 2019-09-13 04:00:00  0.552756  0.556918   \n",
       "...                        ...                 ...       ...       ...   \n",
       "2539       2019-12-27 19:00:00 2019-12-27 19:00:00  0.715846  0.706836   \n",
       "2540       2019-12-27 20:00:00 2019-12-27 20:00:00  0.715918  0.706836   \n",
       "2541       2019-12-27 21:00:00 2019-12-27 21:00:00  0.715256  0.706836   \n",
       "2542       2019-12-27 22:00:00 2019-12-27 22:00:00  0.713857  0.706836   \n",
       "2543       2019-12-27 23:00:00 2019-12-27 23:00:00  0.713081  0.706836   \n",
       "\n",
       "          load  \n",
       "0     0.554331  \n",
       "1     0.554331  \n",
       "2     0.554331  \n",
       "3     0.554331  \n",
       "4     0.554331  \n",
       "...        ...  \n",
       "2539  0.725218  \n",
       "2540  0.725218  \n",
       "2541  0.725218  \n",
       "2542  0.725218  \n",
       "2543  0.725218  \n",
       "\n",
       "[2544 rows x 5 columns]"
      ]
     },
     "execution_count": 10,
     "metadata": {},
     "output_type": "execute_result"
    }
   ],
   "source": [
    "proj_dir = r'C:/Users/Admin/Code/PROPHET-Load_LSTM/'\n",
    "out_dir = r'data/output/impianto_4/peak/u24_nb96_d1/'\n",
    "\n",
    "forecast_filename = 'test_forecasts.csv'\n",
    "\n",
    "df = pd.read_csv(proj_dir + out_dir + forecast_filename,\n",
    "                 index_col=0,\n",
    "                 parse_dates=['timestamp_forecast_update','timestamp_forecast'])\n",
    "\n",
    "df = df.rename(columns={'predicted_activepower_ev_1':'predict',\n",
    "                        'PotenzaMax':'load'})\n",
    "\n",
    "#df = df.loc[(df.timestamp_forecast_update.dt.hour==0)]\n",
    "\n",
    "df"
   ]
  },
  {
   "cell_type": "code",
   "execution_count": 11,
   "id": "d42db97f",
   "metadata": {},
   "outputs": [
    {
     "data": {
      "text/plain": [
       "(0.03707110290856506, 0.006494817438527863)"
      ]
     },
     "execution_count": 11,
     "metadata": {},
     "output_type": "execute_result"
    }
   ],
   "source": [
    "(df.load-df.persist).abs().mean(),(df.load-df.predict).abs().mean()"
   ]
  },
  {
   "cell_type": "code",
   "execution_count": 15,
   "id": "01ff9a7b",
   "metadata": {},
   "outputs": [
    {
     "data": {
      "text/html": [
       "<div>\n",
       "<style scoped>\n",
       "    .dataframe tbody tr th:only-of-type {\n",
       "        vertical-align: middle;\n",
       "    }\n",
       "\n",
       "    .dataframe tbody tr th {\n",
       "        vertical-align: top;\n",
       "    }\n",
       "\n",
       "    .dataframe thead th {\n",
       "        text-align: right;\n",
       "    }\n",
       "</style>\n",
       "<table border=\"1\" class=\"dataframe\">\n",
       "  <thead>\n",
       "    <tr style=\"text-align: right;\">\n",
       "      <th></th>\n",
       "      <th>predict</th>\n",
       "      <th>persist</th>\n",
       "      <th>load</th>\n",
       "    </tr>\n",
       "    <tr>\n",
       "      <th>timestamp_forecast</th>\n",
       "      <th></th>\n",
       "      <th></th>\n",
       "      <th></th>\n",
       "    </tr>\n",
       "  </thead>\n",
       "  <tbody>\n",
       "    <tr>\n",
       "      <th>2019-09-13</th>\n",
       "      <td>0.582792</td>\n",
       "      <td>0.556918</td>\n",
       "      <td>0.554331</td>\n",
       "    </tr>\n",
       "    <tr>\n",
       "      <th>2019-09-14</th>\n",
       "      <td>0.557175</td>\n",
       "      <td>0.509760</td>\n",
       "      <td>0.475878</td>\n",
       "    </tr>\n",
       "    <tr>\n",
       "      <th>2019-09-15</th>\n",
       "      <td>0.477935</td>\n",
       "      <td>0.338624</td>\n",
       "      <td>0.383797</td>\n",
       "    </tr>\n",
       "    <tr>\n",
       "      <th>2019-09-16</th>\n",
       "      <td>0.414346</td>\n",
       "      <td>0.529883</td>\n",
       "      <td>0.596332</td>\n",
       "    </tr>\n",
       "    <tr>\n",
       "      <th>2019-09-17</th>\n",
       "      <td>0.594943</td>\n",
       "      <td>0.525415</td>\n",
       "      <td>0.595295</td>\n",
       "    </tr>\n",
       "    <tr>\n",
       "      <th>...</th>\n",
       "      <td>...</td>\n",
       "      <td>...</td>\n",
       "      <td>...</td>\n",
       "    </tr>\n",
       "    <tr>\n",
       "      <th>2019-12-23</th>\n",
       "      <td>0.482685</td>\n",
       "      <td>0.665080</td>\n",
       "      <td>0.656616</td>\n",
       "    </tr>\n",
       "    <tr>\n",
       "      <th>2019-12-24</th>\n",
       "      <td>0.647872</td>\n",
       "      <td>0.707321</td>\n",
       "      <td>0.710890</td>\n",
       "    </tr>\n",
       "    <tr>\n",
       "      <th>2019-12-25</th>\n",
       "      <td>0.700795</td>\n",
       "      <td>0.734613</td>\n",
       "      <td>0.716163</td>\n",
       "    </tr>\n",
       "    <tr>\n",
       "      <th>2019-12-26</th>\n",
       "      <td>0.706582</td>\n",
       "      <td>0.735433</td>\n",
       "      <td>0.684824</td>\n",
       "    </tr>\n",
       "    <tr>\n",
       "      <th>2019-12-27</th>\n",
       "      <td>0.679307</td>\n",
       "      <td>0.706836</td>\n",
       "      <td>0.725218</td>\n",
       "    </tr>\n",
       "  </tbody>\n",
       "</table>\n",
       "<p>106 rows × 3 columns</p>\n",
       "</div>"
      ],
      "text/plain": [
       "                     predict   persist      load\n",
       "timestamp_forecast                              \n",
       "2019-09-13          0.582792  0.556918  0.554331\n",
       "2019-09-14          0.557175  0.509760  0.475878\n",
       "2019-09-15          0.477935  0.338624  0.383797\n",
       "2019-09-16          0.414346  0.529883  0.596332\n",
       "2019-09-17          0.594943  0.525415  0.595295\n",
       "...                      ...       ...       ...\n",
       "2019-12-23          0.482685  0.665080  0.656616\n",
       "2019-12-24          0.647872  0.707321  0.710890\n",
       "2019-12-25          0.700795  0.734613  0.716163\n",
       "2019-12-26          0.706582  0.735433  0.684824\n",
       "2019-12-27          0.679307  0.706836  0.725218\n",
       "\n",
       "[106 rows x 3 columns]"
      ]
     },
     "execution_count": 15,
     "metadata": {},
     "output_type": "execute_result"
    }
   ],
   "source": [
    "df_daily = pd.DataFrame()\n",
    "for t in df.timestamp_forecast_update.unique():\n",
    "    df_daily = pd.concat((df_daily,\n",
    "                        df.loc[df.timestamp_forecast_update==t].iloc[:96,:]\\\n",
    "                            .drop(columns=['timestamp_forecast_update'])))\n",
    "df = df_daily.set_index('timestamp_forecast').copy()\n",
    "\n",
    "dfp = df.resample('1d').max()\n",
    "dfp"
   ]
  },
  {
   "cell_type": "markdown",
   "id": "1b88e145",
   "metadata": {},
   "source": [
    "## Load"
   ]
  },
  {
   "cell_type": "code",
   "execution_count": 9,
   "id": "ef681ae1",
   "metadata": {},
   "outputs": [
    {
     "name": "stdout",
     "output_type": "stream",
     "text": [
      "MAE%: pers=3.71 pred=6.04\n",
      "Skill%: -62.81\n"
     ]
    }
   ],
   "source": [
    "mae_pers = (dfp.load - dfp.persist).abs().mean()\n",
    "mae_pred = (dfp.load - dfp.predict).abs().mean()\n",
    "skill = 1 - mae_pred / mae_pers\n",
    "\n",
    "print(f'MAE%: pers={100*mae_pers:.2f} pred={100*mae_pred:.2f}')\n",
    "print(f'Skill%: {100*skill:.2f}')"
   ]
  },
  {
   "cell_type": "markdown",
   "id": "02831046",
   "metadata": {},
   "source": [
    "## Hour"
   ]
  },
  {
   "cell_type": "code",
   "execution_count": 17,
   "id": "b2073377",
   "metadata": {},
   "outputs": [],
   "source": [
    "dfp['hour'] =         df.resample('1d').apply(lambda x: x['load'].idxmax().hour)\n",
    "dfp['persist_hour'] = df.resample('1d').apply(lambda x: x['persist'].idxmax().hour)\n",
    "dfp['predict_hour'] = df.resample('1d').apply(lambda x: x['predict'].idxmax().hour)"
   ]
  },
  {
   "cell_type": "code",
   "execution_count": 18,
   "id": "52a363c3",
   "metadata": {},
   "outputs": [
    {
     "name": "stdout",
     "output_type": "stream",
     "text": [
      "ACC%: pers=100.00 pred=100.00\n",
      "Skill%: 0.00\n"
     ]
    }
   ],
   "source": [
    "acc_pers = (dfp.hour == dfp.persist_hour).sum() / len(dfp)\n",
    "acc_pred = (dfp.hour == dfp.predict_hour).sum() / len(dfp)\n",
    "skill = 1 - acc_pers / acc_pred\n",
    "\n",
    "print(f'ACC%: pers={100*acc_pers:.2f} pred={100*acc_pred:.2f}')\n",
    "print(f'Skill%: {100*skill:.2f}')"
   ]
  },
  {
   "cell_type": "code",
   "execution_count": null,
   "id": "71e4dfdd",
   "metadata": {},
   "outputs": [],
   "source": []
  }
 ],
 "metadata": {
  "kernelspec": {
   "display_name": "base",
   "language": "python",
   "name": "python3"
  },
  "language_info": {
   "codemirror_mode": {
    "name": "ipython",
    "version": 3
   },
   "file_extension": ".py",
   "mimetype": "text/x-python",
   "name": "python",
   "nbconvert_exporter": "python",
   "pygments_lexer": "ipython3",
   "version": "3.11.9"
  }
 },
 "nbformat": 4,
 "nbformat_minor": 5
}
