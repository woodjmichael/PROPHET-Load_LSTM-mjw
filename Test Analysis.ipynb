{
 "cells": [
  {
   "cell_type": "markdown",
   "id": "f3a21e50",
   "metadata": {},
   "source": [
    "# _Test Analysis_"
   ]
  },
  {
   "cell_type": "code",
   "execution_count": 10,
   "id": "d820fe88",
   "metadata": {},
   "outputs": [],
   "source": [
    "import pandas as pd\n",
    "import configparser\n",
    "\n",
    "config = configparser.ConfigParser()\n",
    "config.read('C:/Users/Admin/Code/PROPHET-Load_LSTM/lstm_forecaster.ini')\n",
    "n_timesteps = config.getint('data_opt', 'n_timesteps')"
   ]
  },
  {
   "cell_type": "markdown",
   "id": "3a9603cd",
   "metadata": {},
   "source": [
    "# Load"
   ]
  },
  {
   "cell_type": "code",
   "execution_count": 11,
   "id": "b1f8484a",
   "metadata": {},
   "outputs": [
    {
     "data": {
      "text/html": [
       "<div>\n",
       "<style scoped>\n",
       "    .dataframe tbody tr th:only-of-type {\n",
       "        vertical-align: middle;\n",
       "    }\n",
       "\n",
       "    .dataframe tbody tr th {\n",
       "        vertical-align: top;\n",
       "    }\n",
       "\n",
       "    .dataframe thead th {\n",
       "        text-align: right;\n",
       "    }\n",
       "</style>\n",
       "<table border=\"1\" class=\"dataframe\">\n",
       "  <thead>\n",
       "    <tr style=\"text-align: right;\">\n",
       "      <th></th>\n",
       "      <th>timestamp_forecast_update</th>\n",
       "      <th>timestamp_forecast</th>\n",
       "      <th>predict</th>\n",
       "      <th>persist</th>\n",
       "      <th>load</th>\n",
       "    </tr>\n",
       "  </thead>\n",
       "  <tbody>\n",
       "    <tr>\n",
       "      <th>0</th>\n",
       "      <td>2019-09-13</td>\n",
       "      <td>2019-09-13 00:00:00</td>\n",
       "      <td>15.639225</td>\n",
       "      <td>17.367902</td>\n",
       "      <td>16.055685</td>\n",
       "    </tr>\n",
       "    <tr>\n",
       "      <th>1</th>\n",
       "      <td>2019-09-13</td>\n",
       "      <td>2019-09-13 00:15:00</td>\n",
       "      <td>16.267834</td>\n",
       "      <td>16.910835</td>\n",
       "      <td>16.141277</td>\n",
       "    </tr>\n",
       "    <tr>\n",
       "      <th>2</th>\n",
       "      <td>2019-09-13</td>\n",
       "      <td>2019-09-13 00:30:00</td>\n",
       "      <td>16.590502</td>\n",
       "      <td>17.360092</td>\n",
       "      <td>15.887679</td>\n",
       "    </tr>\n",
       "    <tr>\n",
       "      <th>3</th>\n",
       "      <td>2019-09-13</td>\n",
       "      <td>2019-09-13 00:45:00</td>\n",
       "      <td>16.768347</td>\n",
       "      <td>16.807852</td>\n",
       "      <td>16.271505</td>\n",
       "    </tr>\n",
       "    <tr>\n",
       "      <th>4</th>\n",
       "      <td>2019-09-13</td>\n",
       "      <td>2019-09-13 01:00:00</td>\n",
       "      <td>16.874498</td>\n",
       "      <td>17.059452</td>\n",
       "      <td>15.876782</td>\n",
       "    </tr>\n",
       "    <tr>\n",
       "      <th>...</th>\n",
       "      <td>...</td>\n",
       "      <td>...</td>\n",
       "      <td>...</td>\n",
       "      <td>...</td>\n",
       "      <td>...</td>\n",
       "    </tr>\n",
       "    <tr>\n",
       "      <th>139</th>\n",
       "      <td>2019-09-13</td>\n",
       "      <td>2019-09-14 10:45:00</td>\n",
       "      <td>17.251640</td>\n",
       "      <td>12.785610</td>\n",
       "      <td>10.566479</td>\n",
       "    </tr>\n",
       "    <tr>\n",
       "      <th>140</th>\n",
       "      <td>2019-09-13</td>\n",
       "      <td>2019-09-14 11:00:00</td>\n",
       "      <td>17.251640</td>\n",
       "      <td>12.615742</td>\n",
       "      <td>10.512808</td>\n",
       "    </tr>\n",
       "    <tr>\n",
       "      <th>141</th>\n",
       "      <td>2019-09-13</td>\n",
       "      <td>2019-09-14 11:15:00</td>\n",
       "      <td>17.251640</td>\n",
       "      <td>12.541457</td>\n",
       "      <td>10.074268</td>\n",
       "    </tr>\n",
       "    <tr>\n",
       "      <th>142</th>\n",
       "      <td>2019-09-13</td>\n",
       "      <td>2019-09-14 11:30:00</td>\n",
       "      <td>17.251640</td>\n",
       "      <td>12.618648</td>\n",
       "      <td>9.529883</td>\n",
       "    </tr>\n",
       "    <tr>\n",
       "      <th>143</th>\n",
       "      <td>2019-09-13</td>\n",
       "      <td>2019-09-14 11:45:00</td>\n",
       "      <td>17.251640</td>\n",
       "      <td>12.012783</td>\n",
       "      <td>9.366236</td>\n",
       "    </tr>\n",
       "  </tbody>\n",
       "</table>\n",
       "<p>144 rows × 5 columns</p>\n",
       "</div>"
      ],
      "text/plain": [
       "    timestamp_forecast_update  timestamp_forecast    predict    persist  \\\n",
       "0                  2019-09-13 2019-09-13 00:00:00  15.639225  17.367902   \n",
       "1                  2019-09-13 2019-09-13 00:15:00  16.267834  16.910835   \n",
       "2                  2019-09-13 2019-09-13 00:30:00  16.590502  17.360092   \n",
       "3                  2019-09-13 2019-09-13 00:45:00  16.768347  16.807852   \n",
       "4                  2019-09-13 2019-09-13 01:00:00  16.874498  17.059452   \n",
       "..                        ...                 ...        ...        ...   \n",
       "139                2019-09-13 2019-09-14 10:45:00  17.251640  12.785610   \n",
       "140                2019-09-13 2019-09-14 11:00:00  17.251640  12.615742   \n",
       "141                2019-09-13 2019-09-14 11:15:00  17.251640  12.541457   \n",
       "142                2019-09-13 2019-09-14 11:30:00  17.251640  12.618648   \n",
       "143                2019-09-13 2019-09-14 11:45:00  17.251640  12.012783   \n",
       "\n",
       "          load  \n",
       "0    16.055685  \n",
       "1    16.141277  \n",
       "2    15.887679  \n",
       "3    16.271505  \n",
       "4    15.876782  \n",
       "..         ...  \n",
       "139  10.566479  \n",
       "140  10.512808  \n",
       "141  10.074268  \n",
       "142   9.529883  \n",
       "143   9.366236  \n",
       "\n",
       "[144 rows x 5 columns]"
      ]
     },
     "execution_count": 11,
     "metadata": {},
     "output_type": "execute_result"
    }
   ],
   "source": [
    "proj_dir = r'C:/Users/Admin/Code/PROPHET-Load_LSTM/'\n",
    "out_dir = r'data/output/impianto_4/u576_nb480_d1/'\n",
    "#out_dir = r'data/output/impianto_4/peak/hp_search/'\n",
    "\n",
    "forecast_filename = 'test_forecasts_debug.csv'\n",
    "\n",
    "df = pd.read_csv(proj_dir + out_dir + forecast_filename,\n",
    "                 index_col=0,\n",
    "                 parse_dates=['timestamp_forecast_update','timestamp_forecast'])\n",
    "\n",
    "df = df.rename(columns={'predicted_activepower_ev_1':'predict',\n",
    "                        'power':'load'})\n",
    "\n",
    "df #[df.timestamp_forecast_update=='2019-9-13']"
   ]
  },
  {
   "cell_type": "code",
   "execution_count": 12,
   "id": "8124c743",
   "metadata": {},
   "outputs": [
    {
     "data": {
      "image/png": "[encoded data removed]",
      "text/plain": [
       "<Figure size 1000x600 with 1 Axes>"
      ]
     },
     "metadata": {},
     "output_type": "display_data"
    }
   ],
   "source": [
    "df.plot(x='timestamp_forecast',y=['load','persist','predict'],legend=True,figsize=(10,6));"
   ]
  },
  {
   "cell_type": "markdown",
   "id": "a935a840",
   "metadata": {},
   "source": [
    "To match the test code, resample to 4-hourly forecast updates"
   ]
  },
  {
   "cell_type": "code",
   "execution_count": 13,
   "id": "f31d634f",
   "metadata": {},
   "outputs": [],
   "source": [
    "# idx = pd.date_range('2019-9-13 0:00','2019-12-27 23:00',freq='4h')\n",
    "# df = df.loc[df.timestamp_forecast_update.isin(idx)].copy()\n",
    "# df"
   ]
  },
  {
   "cell_type": "markdown",
   "id": "9b422118",
   "metadata": {},
   "source": [
    "Checks"
   ]
  },
  {
   "cell_type": "code",
   "execution_count": 14,
   "id": "a44ce411",
   "metadata": {},
   "outputs": [],
   "source": [
    "assert df.loc[(df.persist-df.load)==0,:].shape[0] == 0 # is persist perfect?\n",
    "assert df.isna().sum().sum() == 0 # any nans?\n",
    "for t in df.timestamp_forecast_update.unique(): # completeness?\n",
    "    assert df.loc[df.timestamp_forecast_update==t,:].shape[0] == 144 #n_timesteps"
   ]
  },
  {
   "cell_type": "markdown",
   "id": "06f4ffe8",
   "metadata": {},
   "source": [
    "Errors"
   ]
  },
  {
   "cell_type": "code",
   "execution_count": 15,
   "id": "0bf3253a",
   "metadata": {},
   "outputs": [
    {
     "name": "stdout",
     "output_type": "stream",
     "text": [
      "MAE%: pers 118.51 pred 220.89\n",
      "Skill%: -86.386\n"
     ]
    }
   ],
   "source": [
    "mae_pers = (df.persist-df.load).abs().mean()\n",
    "mae_pred = (df.predict-df.load).abs().mean()\n",
    "skill = (1 - mae_pred / mae_pers)\n",
    "\n",
    "print(f'MAE%: pers {100*mae_pers:.2f} pred {100*mae_pred:.2f}')\n",
    "print(f'Skill%: {100*skill:.3f}')"
   ]
  },
  {
   "cell_type": "markdown",
   "id": "2a92c286",
   "metadata": {},
   "source": [
    "Fraction of positive skills"
   ]
  },
  {
   "cell_type": "code",
   "execution_count": 16,
   "id": "75a483a1",
   "metadata": {},
   "outputs": [
    {
     "data": {
      "text/plain": [
       "0.2847222222222222"
      ]
     },
     "execution_count": 16,
     "metadata": {},
     "output_type": "execute_result"
    }
   ],
   "source": [
    "skills = 1 - (df.load - df.predict).abs() / \\\n",
    "              (df.load - df.persist).abs()\n",
    "              \n",
    "len(skills[skills>0]) / len(skills)"
   ]
  },
  {
   "cell_type": "markdown",
   "id": "ae5ca336",
   "metadata": {},
   "source": [
    "Fraction of postive skills (for each `timestamp_update`)"
   ]
  },
  {
   "cell_type": "code",
   "execution_count": 17,
   "id": "b6bb6e62",
   "metadata": {},
   "outputs": [
    {
     "data": {
      "text/plain": [
       "0.0"
      ]
     },
     "execution_count": 17,
     "metadata": {},
     "output_type": "execute_result"
    }
   ],
   "source": [
    "skills = [] \n",
    "\n",
    "for t in df.timestamp_forecast_update.unique():\n",
    "    forecast_now = df.loc[df.timestamp_forecast_update==t]\n",
    "    test_mae_pers_now = (forecast_now.persist-forecast_now.load).abs().mean()\n",
    "    test_mae_pred_now = (forecast_now.predict-forecast_now.load).abs().mean()\n",
    "    test_skill_now = 1 - test_mae_pred_now / test_mae_pers_now\n",
    "    skills.append( test_skill_now )\n",
    "    \n",
    "len([x for x in skills if x > 0])/len(skills)\n"
   ]
  },
  {
   "cell_type": "markdown",
   "id": "cbb3ea17",
   "metadata": {},
   "source": [
    "Percentage of postive skills (for each `timestamp_forecast_update` at 0:00)"
   ]
  },
  {
   "cell_type": "code",
   "execution_count": 18,
   "id": "63294f65",
   "metadata": {},
   "outputs": [
    {
     "data": {
      "text/plain": [
       "0.0"
      ]
     },
     "execution_count": 18,
     "metadata": {},
     "output_type": "execute_result"
    }
   ],
   "source": [
    "skills = [] \n",
    "\n",
    "for t in df.timestamp_forecast_update.unique():\n",
    "    if t.hour == 0 and t.minute == 0:\n",
    "        forecast_now = df.loc[df.timestamp_forecast_update==t]\n",
    "        test_mae_pers_now = (forecast_now.persist-forecast_now.load).abs().mean()\n",
    "        test_mae_pred_now = (forecast_now.predict-forecast_now.load).abs().mean()\n",
    "        test_skill_now = 1 - test_mae_pred_now / test_mae_pers_now\n",
    "        skills.append( test_skill_now )\n",
    "    \n",
    "len([x for x in skills if x > 0])/len(skills)\n"
   ]
  },
  {
   "cell_type": "markdown",
   "id": "8aab850b",
   "metadata": {},
   "source": [
    "# Peak load"
   ]
  },
  {
   "cell_type": "markdown",
   "id": "f0291253",
   "metadata": {},
   "source": [
    "Goal is just the midnight update day-ahead peak load"
   ]
  },
  {
   "cell_type": "code",
   "execution_count": 19,
   "id": "3f6c2ce6",
   "metadata": {},
   "outputs": [
    {
     "ename": "FileNotFoundError",
     "evalue": "[Errno 2] No such file or directory: 'C:/Users/Admin/Code/PROPHET-Load_LSTM/data/output/zeh/peak/u144_nb672_d2/test_forecasts.csv'",
     "output_type": "error",
     "traceback": [
      "\u001b[1;31m---------------------------------------------------------------------------\u001b[0m",
      "\u001b[1;31mFileNotFoundError\u001b[0m                         Traceback (most recent call last)",
      "Cell \u001b[1;32mIn[19], line 7\u001b[0m\n\u001b[0;32m      3\u001b[0m out_dir \u001b[38;5;241m=\u001b[39m \u001b[38;5;124mr\u001b[39m\u001b[38;5;124m'\u001b[39m\u001b[38;5;124mdata/output/zeh/peak/u144_nb672_d2/\u001b[39m\u001b[38;5;124m'\u001b[39m\n\u001b[0;32m      5\u001b[0m forecast_filename \u001b[38;5;241m=\u001b[39m \u001b[38;5;124m'\u001b[39m\u001b[38;5;124mtest_forecasts.csv\u001b[39m\u001b[38;5;124m'\u001b[39m\n\u001b[1;32m----> 7\u001b[0m df \u001b[38;5;241m=\u001b[39m \u001b[43mpd\u001b[49m\u001b[38;5;241;43m.\u001b[39;49m\u001b[43mread_csv\u001b[49m\u001b[43m(\u001b[49m\u001b[43mproj_dir\u001b[49m\u001b[43m \u001b[49m\u001b[38;5;241;43m+\u001b[39;49m\u001b[43m \u001b[49m\u001b[43mout_dir\u001b[49m\u001b[43m \u001b[49m\u001b[38;5;241;43m+\u001b[39;49m\u001b[43m \u001b[49m\u001b[43mforecast_filename\u001b[49m\u001b[43m,\u001b[49m\n\u001b[0;32m      8\u001b[0m \u001b[43m                 \u001b[49m\u001b[43mindex_col\u001b[49m\u001b[38;5;241;43m=\u001b[39;49m\u001b[38;5;241;43m0\u001b[39;49m\u001b[43m,\u001b[49m\n\u001b[0;32m      9\u001b[0m \u001b[43m                 \u001b[49m\u001b[43mparse_dates\u001b[49m\u001b[38;5;241;43m=\u001b[39;49m\u001b[43m[\u001b[49m\u001b[38;5;124;43m'\u001b[39;49m\u001b[38;5;124;43mtimestamp_forecast_update\u001b[39;49m\u001b[38;5;124;43m'\u001b[39;49m\u001b[43m,\u001b[49m\u001b[38;5;124;43m'\u001b[39;49m\u001b[38;5;124;43mtimestamp_forecast\u001b[39;49m\u001b[38;5;124;43m'\u001b[39;49m\u001b[43m]\u001b[49m\u001b[43m)\u001b[49m\n\u001b[0;32m     11\u001b[0m df \u001b[38;5;241m=\u001b[39m df\u001b[38;5;241m.\u001b[39mrename(columns\u001b[38;5;241m=\u001b[39m{\u001b[38;5;124m'\u001b[39m\u001b[38;5;124mpredicted_activepower_ev_1\u001b[39m\u001b[38;5;124m'\u001b[39m:\u001b[38;5;124m'\u001b[39m\u001b[38;5;124mpredict\u001b[39m\u001b[38;5;124m'\u001b[39m,\n\u001b[0;32m     12\u001b[0m                         \u001b[38;5;124m'\u001b[39m\u001b[38;5;124mPotenzaMax\u001b[39m\u001b[38;5;124m'\u001b[39m:\u001b[38;5;124m'\u001b[39m\u001b[38;5;124mload\u001b[39m\u001b[38;5;124m'\u001b[39m,\n\u001b[0;32m     13\u001b[0m                         \u001b[38;5;124m'\u001b[39m\u001b[38;5;124mEtotDailyPeak\u001b[39m\u001b[38;5;124m'\u001b[39m:\u001b[38;5;124m'\u001b[39m\u001b[38;5;124mload\u001b[39m\u001b[38;5;124m'\u001b[39m\n\u001b[0;32m     14\u001b[0m                         })\n\u001b[0;32m     16\u001b[0m \u001b[38;5;66;03m# max_load = pd.read_csv('data/input/Impianto_4_clean_emd_peaks.csv',\u001b[39;00m\n\u001b[0;32m     17\u001b[0m \u001b[38;5;66;03m#                        comment='#',\u001b[39;00m\n\u001b[0;32m     18\u001b[0m \u001b[38;5;66;03m#                        usecols=[1]).values.max()\u001b[39;00m\n\u001b[0;32m     19\u001b[0m \n\u001b[0;32m     20\u001b[0m \u001b[38;5;66;03m# df[['predict']]\u001b[39;00m\n",
      "File \u001b[1;32mc:\\ProgramData\\miniconda3\\Lib\\site-packages\\pandas\\io\\parsers\\readers.py:1026\u001b[0m, in \u001b[0;36mread_csv\u001b[1;34m(filepath_or_buffer, sep, delimiter, header, names, index_col, usecols, dtype, engine, converters, true_values, false_values, skipinitialspace, skiprows, skipfooter, nrows, na_values, keep_default_na, na_filter, verbose, skip_blank_lines, parse_dates, infer_datetime_format, keep_date_col, date_parser, date_format, dayfirst, cache_dates, iterator, chunksize, compression, thousands, decimal, lineterminator, quotechar, quoting, doublequote, escapechar, comment, encoding, encoding_errors, dialect, on_bad_lines, delim_whitespace, low_memory, memory_map, float_precision, storage_options, dtype_backend)\u001b[0m\n\u001b[0;32m   1013\u001b[0m kwds_defaults \u001b[38;5;241m=\u001b[39m _refine_defaults_read(\n\u001b[0;32m   1014\u001b[0m     dialect,\n\u001b[0;32m   1015\u001b[0m     delimiter,\n\u001b[1;32m   (...)\u001b[0m\n\u001b[0;32m   1022\u001b[0m     dtype_backend\u001b[38;5;241m=\u001b[39mdtype_backend,\n\u001b[0;32m   1023\u001b[0m )\n\u001b[0;32m   1024\u001b[0m kwds\u001b[38;5;241m.\u001b[39mupdate(kwds_defaults)\n\u001b[1;32m-> 1026\u001b[0m \u001b[38;5;28;01mreturn\u001b[39;00m \u001b[43m_read\u001b[49m\u001b[43m(\u001b[49m\u001b[43mfilepath_or_buffer\u001b[49m\u001b[43m,\u001b[49m\u001b[43m \u001b[49m\u001b[43mkwds\u001b[49m\u001b[43m)\u001b[49m\n",
      "File \u001b[1;32mc:\\ProgramData\\miniconda3\\Lib\\site-packages\\pandas\\io\\parsers\\readers.py:620\u001b[0m, in \u001b[0;36m_read\u001b[1;34m(filepath_or_buffer, kwds)\u001b[0m\n\u001b[0;32m    617\u001b[0m _validate_names(kwds\u001b[38;5;241m.\u001b[39mget(\u001b[38;5;124m\"\u001b[39m\u001b[38;5;124mnames\u001b[39m\u001b[38;5;124m\"\u001b[39m, \u001b[38;5;28;01mNone\u001b[39;00m))\n\u001b[0;32m    619\u001b[0m \u001b[38;5;66;03m# Create the parser.\u001b[39;00m\n\u001b[1;32m--> 620\u001b[0m parser \u001b[38;5;241m=\u001b[39m \u001b[43mTextFileReader\u001b[49m\u001b[43m(\u001b[49m\u001b[43mfilepath_or_buffer\u001b[49m\u001b[43m,\u001b[49m\u001b[43m \u001b[49m\u001b[38;5;241;43m*\u001b[39;49m\u001b[38;5;241;43m*\u001b[39;49m\u001b[43mkwds\u001b[49m\u001b[43m)\u001b[49m\n\u001b[0;32m    622\u001b[0m \u001b[38;5;28;01mif\u001b[39;00m chunksize \u001b[38;5;129;01mor\u001b[39;00m iterator:\n\u001b[0;32m    623\u001b[0m     \u001b[38;5;28;01mreturn\u001b[39;00m parser\n",
      "File \u001b[1;32mc:\\ProgramData\\miniconda3\\Lib\\site-packages\\pandas\\io\\parsers\\readers.py:1620\u001b[0m, in \u001b[0;36mTextFileReader.__init__\u001b[1;34m(self, f, engine, **kwds)\u001b[0m\n\u001b[0;32m   1617\u001b[0m     \u001b[38;5;28mself\u001b[39m\u001b[38;5;241m.\u001b[39moptions[\u001b[38;5;124m\"\u001b[39m\u001b[38;5;124mhas_index_names\u001b[39m\u001b[38;5;124m\"\u001b[39m] \u001b[38;5;241m=\u001b[39m kwds[\u001b[38;5;124m\"\u001b[39m\u001b[38;5;124mhas_index_names\u001b[39m\u001b[38;5;124m\"\u001b[39m]\n\u001b[0;32m   1619\u001b[0m \u001b[38;5;28mself\u001b[39m\u001b[38;5;241m.\u001b[39mhandles: IOHandles \u001b[38;5;241m|\u001b[39m \u001b[38;5;28;01mNone\u001b[39;00m \u001b[38;5;241m=\u001b[39m \u001b[38;5;28;01mNone\u001b[39;00m\n\u001b[1;32m-> 1620\u001b[0m \u001b[38;5;28mself\u001b[39m\u001b[38;5;241m.\u001b[39m_engine \u001b[38;5;241m=\u001b[39m \u001b[38;5;28;43mself\u001b[39;49m\u001b[38;5;241;43m.\u001b[39;49m\u001b[43m_make_engine\u001b[49m\u001b[43m(\u001b[49m\u001b[43mf\u001b[49m\u001b[43m,\u001b[49m\u001b[43m \u001b[49m\u001b[38;5;28;43mself\u001b[39;49m\u001b[38;5;241;43m.\u001b[39;49m\u001b[43mengine\u001b[49m\u001b[43m)\u001b[49m\n",
      "File \u001b[1;32mc:\\ProgramData\\miniconda3\\Lib\\site-packages\\pandas\\io\\parsers\\readers.py:1880\u001b[0m, in \u001b[0;36mTextFileReader._make_engine\u001b[1;34m(self, f, engine)\u001b[0m\n\u001b[0;32m   1878\u001b[0m     \u001b[38;5;28;01mif\u001b[39;00m \u001b[38;5;124m\"\u001b[39m\u001b[38;5;124mb\u001b[39m\u001b[38;5;124m\"\u001b[39m \u001b[38;5;129;01mnot\u001b[39;00m \u001b[38;5;129;01min\u001b[39;00m mode:\n\u001b[0;32m   1879\u001b[0m         mode \u001b[38;5;241m+\u001b[39m\u001b[38;5;241m=\u001b[39m \u001b[38;5;124m\"\u001b[39m\u001b[38;5;124mb\u001b[39m\u001b[38;5;124m\"\u001b[39m\n\u001b[1;32m-> 1880\u001b[0m \u001b[38;5;28mself\u001b[39m\u001b[38;5;241m.\u001b[39mhandles \u001b[38;5;241m=\u001b[39m \u001b[43mget_handle\u001b[49m\u001b[43m(\u001b[49m\n\u001b[0;32m   1881\u001b[0m \u001b[43m    \u001b[49m\u001b[43mf\u001b[49m\u001b[43m,\u001b[49m\n\u001b[0;32m   1882\u001b[0m \u001b[43m    \u001b[49m\u001b[43mmode\u001b[49m\u001b[43m,\u001b[49m\n\u001b[0;32m   1883\u001b[0m \u001b[43m    \u001b[49m\u001b[43mencoding\u001b[49m\u001b[38;5;241;43m=\u001b[39;49m\u001b[38;5;28;43mself\u001b[39;49m\u001b[38;5;241;43m.\u001b[39;49m\u001b[43moptions\u001b[49m\u001b[38;5;241;43m.\u001b[39;49m\u001b[43mget\u001b[49m\u001b[43m(\u001b[49m\u001b[38;5;124;43m\"\u001b[39;49m\u001b[38;5;124;43mencoding\u001b[39;49m\u001b[38;5;124;43m\"\u001b[39;49m\u001b[43m,\u001b[49m\u001b[43m \u001b[49m\u001b[38;5;28;43;01mNone\u001b[39;49;00m\u001b[43m)\u001b[49m\u001b[43m,\u001b[49m\n\u001b[0;32m   1884\u001b[0m \u001b[43m    \u001b[49m\u001b[43mcompression\u001b[49m\u001b[38;5;241;43m=\u001b[39;49m\u001b[38;5;28;43mself\u001b[39;49m\u001b[38;5;241;43m.\u001b[39;49m\u001b[43moptions\u001b[49m\u001b[38;5;241;43m.\u001b[39;49m\u001b[43mget\u001b[49m\u001b[43m(\u001b[49m\u001b[38;5;124;43m\"\u001b[39;49m\u001b[38;5;124;43mcompression\u001b[39;49m\u001b[38;5;124;43m\"\u001b[39;49m\u001b[43m,\u001b[49m\u001b[43m \u001b[49m\u001b[38;5;28;43;01mNone\u001b[39;49;00m\u001b[43m)\u001b[49m\u001b[43m,\u001b[49m\n\u001b[0;32m   1885\u001b[0m \u001b[43m    \u001b[49m\u001b[43mmemory_map\u001b[49m\u001b[38;5;241;43m=\u001b[39;49m\u001b[38;5;28;43mself\u001b[39;49m\u001b[38;5;241;43m.\u001b[39;49m\u001b[43moptions\u001b[49m\u001b[38;5;241;43m.\u001b[39;49m\u001b[43mget\u001b[49m\u001b[43m(\u001b[49m\u001b[38;5;124;43m\"\u001b[39;49m\u001b[38;5;124;43mmemory_map\u001b[39;49m\u001b[38;5;124;43m\"\u001b[39;49m\u001b[43m,\u001b[49m\u001b[43m \u001b[49m\u001b[38;5;28;43;01mFalse\u001b[39;49;00m\u001b[43m)\u001b[49m\u001b[43m,\u001b[49m\n\u001b[0;32m   1886\u001b[0m \u001b[43m    \u001b[49m\u001b[43mis_text\u001b[49m\u001b[38;5;241;43m=\u001b[39;49m\u001b[43mis_text\u001b[49m\u001b[43m,\u001b[49m\n\u001b[0;32m   1887\u001b[0m \u001b[43m    \u001b[49m\u001b[43merrors\u001b[49m\u001b[38;5;241;43m=\u001b[39;49m\u001b[38;5;28;43mself\u001b[39;49m\u001b[38;5;241;43m.\u001b[39;49m\u001b[43moptions\u001b[49m\u001b[38;5;241;43m.\u001b[39;49m\u001b[43mget\u001b[49m\u001b[43m(\u001b[49m\u001b[38;5;124;43m\"\u001b[39;49m\u001b[38;5;124;43mencoding_errors\u001b[39;49m\u001b[38;5;124;43m\"\u001b[39;49m\u001b[43m,\u001b[49m\u001b[43m \u001b[49m\u001b[38;5;124;43m\"\u001b[39;49m\u001b[38;5;124;43mstrict\u001b[39;49m\u001b[38;5;124;43m\"\u001b[39;49m\u001b[43m)\u001b[49m\u001b[43m,\u001b[49m\n\u001b[0;32m   1888\u001b[0m \u001b[43m    \u001b[49m\u001b[43mstorage_options\u001b[49m\u001b[38;5;241;43m=\u001b[39;49m\u001b[38;5;28;43mself\u001b[39;49m\u001b[38;5;241;43m.\u001b[39;49m\u001b[43moptions\u001b[49m\u001b[38;5;241;43m.\u001b[39;49m\u001b[43mget\u001b[49m\u001b[43m(\u001b[49m\u001b[38;5;124;43m\"\u001b[39;49m\u001b[38;5;124;43mstorage_options\u001b[39;49m\u001b[38;5;124;43m\"\u001b[39;49m\u001b[43m,\u001b[49m\u001b[43m \u001b[49m\u001b[38;5;28;43;01mNone\u001b[39;49;00m\u001b[43m)\u001b[49m\u001b[43m,\u001b[49m\n\u001b[0;32m   1889\u001b[0m \u001b[43m\u001b[49m\u001b[43m)\u001b[49m\n\u001b[0;32m   1890\u001b[0m \u001b[38;5;28;01massert\u001b[39;00m \u001b[38;5;28mself\u001b[39m\u001b[38;5;241m.\u001b[39mhandles \u001b[38;5;129;01mis\u001b[39;00m \u001b[38;5;129;01mnot\u001b[39;00m \u001b[38;5;28;01mNone\u001b[39;00m\n\u001b[0;32m   1891\u001b[0m f \u001b[38;5;241m=\u001b[39m \u001b[38;5;28mself\u001b[39m\u001b[38;5;241m.\u001b[39mhandles\u001b[38;5;241m.\u001b[39mhandle\n",
      "File \u001b[1;32mc:\\ProgramData\\miniconda3\\Lib\\site-packages\\pandas\\io\\common.py:873\u001b[0m, in \u001b[0;36mget_handle\u001b[1;34m(path_or_buf, mode, encoding, compression, memory_map, is_text, errors, storage_options)\u001b[0m\n\u001b[0;32m    868\u001b[0m \u001b[38;5;28;01melif\u001b[39;00m \u001b[38;5;28misinstance\u001b[39m(handle, \u001b[38;5;28mstr\u001b[39m):\n\u001b[0;32m    869\u001b[0m     \u001b[38;5;66;03m# Check whether the filename is to be opened in binary mode.\u001b[39;00m\n\u001b[0;32m    870\u001b[0m     \u001b[38;5;66;03m# Binary mode does not support 'encoding' and 'newline'.\u001b[39;00m\n\u001b[0;32m    871\u001b[0m     \u001b[38;5;28;01mif\u001b[39;00m ioargs\u001b[38;5;241m.\u001b[39mencoding \u001b[38;5;129;01mand\u001b[39;00m \u001b[38;5;124m\"\u001b[39m\u001b[38;5;124mb\u001b[39m\u001b[38;5;124m\"\u001b[39m \u001b[38;5;129;01mnot\u001b[39;00m \u001b[38;5;129;01min\u001b[39;00m ioargs\u001b[38;5;241m.\u001b[39mmode:\n\u001b[0;32m    872\u001b[0m         \u001b[38;5;66;03m# Encoding\u001b[39;00m\n\u001b[1;32m--> 873\u001b[0m         handle \u001b[38;5;241m=\u001b[39m \u001b[38;5;28;43mopen\u001b[39;49m\u001b[43m(\u001b[49m\n\u001b[0;32m    874\u001b[0m \u001b[43m            \u001b[49m\u001b[43mhandle\u001b[49m\u001b[43m,\u001b[49m\n\u001b[0;32m    875\u001b[0m \u001b[43m            \u001b[49m\u001b[43mioargs\u001b[49m\u001b[38;5;241;43m.\u001b[39;49m\u001b[43mmode\u001b[49m\u001b[43m,\u001b[49m\n\u001b[0;32m    876\u001b[0m \u001b[43m            \u001b[49m\u001b[43mencoding\u001b[49m\u001b[38;5;241;43m=\u001b[39;49m\u001b[43mioargs\u001b[49m\u001b[38;5;241;43m.\u001b[39;49m\u001b[43mencoding\u001b[49m\u001b[43m,\u001b[49m\n\u001b[0;32m    877\u001b[0m \u001b[43m            \u001b[49m\u001b[43merrors\u001b[49m\u001b[38;5;241;43m=\u001b[39;49m\u001b[43merrors\u001b[49m\u001b[43m,\u001b[49m\n\u001b[0;32m    878\u001b[0m \u001b[43m            \u001b[49m\u001b[43mnewline\u001b[49m\u001b[38;5;241;43m=\u001b[39;49m\u001b[38;5;124;43m\"\u001b[39;49m\u001b[38;5;124;43m\"\u001b[39;49m\u001b[43m,\u001b[49m\n\u001b[0;32m    879\u001b[0m \u001b[43m        \u001b[49m\u001b[43m)\u001b[49m\n\u001b[0;32m    880\u001b[0m     \u001b[38;5;28;01melse\u001b[39;00m:\n\u001b[0;32m    881\u001b[0m         \u001b[38;5;66;03m# Binary mode\u001b[39;00m\n\u001b[0;32m    882\u001b[0m         handle \u001b[38;5;241m=\u001b[39m \u001b[38;5;28mopen\u001b[39m(handle, ioargs\u001b[38;5;241m.\u001b[39mmode)\n",
      "\u001b[1;31mFileNotFoundError\u001b[0m: [Errno 2] No such file or directory: 'C:/Users/Admin/Code/PROPHET-Load_LSTM/data/output/zeh/peak/u144_nb672_d2/test_forecasts.csv'"
     ]
    }
   ],
   "source": [
    "proj_dir = r'C:/Users/Admin/Code/PROPHET-Load_LSTM/'\n",
    "#out_dir = r'data/output/impianto_4/peak/u24_nb96_d1/'\n",
    "out_dir = r'data/output/zeh/peak/u144_nb672_d2/'\n",
    "\n",
    "forecast_filename = 'test_forecasts.csv'\n",
    "\n",
    "df = pd.read_csv(proj_dir + out_dir + forecast_filename,\n",
    "                 index_col=0,\n",
    "                 parse_dates=['timestamp_forecast_update','timestamp_forecast'])\n",
    "\n",
    "df = df.rename(columns={'predicted_activepower_ev_1':'predict',\n",
    "                        'PotenzaMax':'load',\n",
    "                        'EtotDailyPeak':'load'\n",
    "                        })\n",
    "\n",
    "# max_load = pd.read_csv('data/input/Impianto_4_clean_emd_peaks.csv',\n",
    "#                        comment='#',\n",
    "#                        usecols=[1]).values.max()\n",
    "\n",
    "# df[['predict']]\n",
    "\n",
    "df #.describe()"
   ]
  },
  {
   "cell_type": "code",
   "execution_count": null,
   "id": "d42db97f",
   "metadata": {},
   "outputs": [
    {
     "data": {
      "text/plain": [
       "(0.03707110290856506, 0.006494817438527863)"
      ]
     },
     "execution_count": 7,
     "metadata": {},
     "output_type": "execute_result"
    }
   ],
   "source": [
    "(df.load-df.persist).abs().mean(),(df.load-df.predict).abs().mean()"
   ]
  },
  {
   "cell_type": "code",
   "execution_count": null,
   "id": "5639db2c",
   "metadata": {},
   "outputs": [
    {
     "data": {
      "image/png": "[encoded data removed]",
      "text/plain": [
       "<Figure size 640x480 with 1 Axes>"
      ]
     },
     "metadata": {},
     "output_type": "display_data"
    }
   ],
   "source": [
    "t = df.timestamp_forecast_update.unique()[2*168]\n",
    "df[df.timestamp_forecast_update<t].set_index('timestamp_forecast')[['load','persist','predict']].plot();"
   ]
  },
  {
   "cell_type": "code",
   "execution_count": null,
   "id": "01ff9a7b",
   "metadata": {},
   "outputs": [
    {
     "data": {
      "text/html": [
       "<div>\n",
       "<style scoped>\n",
       "    .dataframe tbody tr th:only-of-type {\n",
       "        vertical-align: middle;\n",
       "    }\n",
       "\n",
       "    .dataframe tbody tr th {\n",
       "        vertical-align: top;\n",
       "    }\n",
       "\n",
       "    .dataframe thead th {\n",
       "        text-align: right;\n",
       "    }\n",
       "</style>\n",
       "<table border=\"1\" class=\"dataframe\">\n",
       "  <thead>\n",
       "    <tr style=\"text-align: right;\">\n",
       "      <th></th>\n",
       "      <th>predict</th>\n",
       "      <th>persist</th>\n",
       "      <th>load</th>\n",
       "    </tr>\n",
       "    <tr>\n",
       "      <th>timestamp_forecast</th>\n",
       "      <th></th>\n",
       "      <th></th>\n",
       "      <th></th>\n",
       "    </tr>\n",
       "  </thead>\n",
       "  <tbody>\n",
       "    <tr>\n",
       "      <th>2019-09-13</th>\n",
       "      <td>0.582792</td>\n",
       "      <td>0.556918</td>\n",
       "      <td>0.554331</td>\n",
       "    </tr>\n",
       "    <tr>\n",
       "      <th>2019-09-14</th>\n",
       "      <td>0.557175</td>\n",
       "      <td>0.509760</td>\n",
       "      <td>0.475878</td>\n",
       "    </tr>\n",
       "    <tr>\n",
       "      <th>2019-09-15</th>\n",
       "      <td>0.477935</td>\n",
       "      <td>0.338624</td>\n",
       "      <td>0.383797</td>\n",
       "    </tr>\n",
       "    <tr>\n",
       "      <th>2019-09-16</th>\n",
       "      <td>0.600448</td>\n",
       "      <td>0.529883</td>\n",
       "      <td>0.596332</td>\n",
       "    </tr>\n",
       "    <tr>\n",
       "      <th>2019-09-17</th>\n",
       "      <td>0.595111</td>\n",
       "      <td>0.525415</td>\n",
       "      <td>0.595295</td>\n",
       "    </tr>\n",
       "    <tr>\n",
       "      <th>...</th>\n",
       "      <td>...</td>\n",
       "      <td>...</td>\n",
       "      <td>...</td>\n",
       "    </tr>\n",
       "    <tr>\n",
       "      <th>2019-12-23</th>\n",
       "      <td>0.652453</td>\n",
       "      <td>0.665080</td>\n",
       "      <td>0.656616</td>\n",
       "    </tr>\n",
       "    <tr>\n",
       "      <th>2019-12-24</th>\n",
       "      <td>0.705299</td>\n",
       "      <td>0.707321</td>\n",
       "      <td>0.710890</td>\n",
       "    </tr>\n",
       "    <tr>\n",
       "      <th>2019-12-25</th>\n",
       "      <td>0.711585</td>\n",
       "      <td>0.734613</td>\n",
       "      <td>0.716163</td>\n",
       "    </tr>\n",
       "    <tr>\n",
       "      <th>2019-12-26</th>\n",
       "      <td>0.706582</td>\n",
       "      <td>0.735433</td>\n",
       "      <td>0.684824</td>\n",
       "    </tr>\n",
       "    <tr>\n",
       "      <th>2019-12-27</th>\n",
       "      <td>0.722084</td>\n",
       "      <td>0.706836</td>\n",
       "      <td>0.725218</td>\n",
       "    </tr>\n",
       "  </tbody>\n",
       "</table>\n",
       "<p>106 rows × 3 columns</p>\n",
       "</div>"
      ],
      "text/plain": [
       "                     predict   persist      load\n",
       "timestamp_forecast                              \n",
       "2019-09-13          0.582792  0.556918  0.554331\n",
       "2019-09-14          0.557175  0.509760  0.475878\n",
       "2019-09-15          0.477935  0.338624  0.383797\n",
       "2019-09-16          0.600448  0.529883  0.596332\n",
       "2019-09-17          0.595111  0.525415  0.595295\n",
       "...                      ...       ...       ...\n",
       "2019-12-23          0.652453  0.665080  0.656616\n",
       "2019-12-24          0.705299  0.707321  0.710890\n",
       "2019-12-25          0.711585  0.734613  0.716163\n",
       "2019-12-26          0.706582  0.735433  0.684824\n",
       "2019-12-27          0.722084  0.706836  0.725218\n",
       "\n",
       "[106 rows x 3 columns]"
      ]
     },
     "execution_count": 4,
     "metadata": {},
     "output_type": "execute_result"
    }
   ],
   "source": [
    "df_daily = pd.DataFrame()\n",
    "for t in df.timestamp_forecast_update.unique():\n",
    "    df_daily = pd.concat((df_daily,\n",
    "                        df.loc[df.timestamp_forecast_update==t].iloc[:96,:]\\\n",
    "                            .drop(columns=['timestamp_forecast_update'])))\n",
    "df = df_daily.set_index('timestamp_forecast').copy()\n",
    "\n",
    "dfp = df.resample('1d').max()\n",
    "dfp"
   ]
  },
  {
   "cell_type": "code",
   "execution_count": null,
   "id": "ef681ae1",
   "metadata": {},
   "outputs": [
    {
     "name": "stdout",
     "output_type": "stream",
     "text": [
      "MAE%: pers=3.71 pred=6.04\n",
      "Skill%: -62.81\n"
     ]
    }
   ],
   "source": [
    "mae_pers = (dfp.load - dfp.persist).abs().mean()\n",
    "mae_pred = (dfp.load - dfp.predict).abs().mean()\n",
    "skill = 1 - mae_pred / mae_pers\n",
    "\n",
    "print(f'MAE%: pers={100*mae_pers:.2f} pred={100*mae_pred:.2f}')\n",
    "print(f'Skill%: {100*skill:.2f}')"
   ]
  },
  {
   "cell_type": "markdown",
   "id": "02831046",
   "metadata": {},
   "source": [
    "# Peak hour"
   ]
  },
  {
   "cell_type": "code",
   "execution_count": 43,
   "id": "c4586d92",
   "metadata": {},
   "outputs": [
    {
     "data": {
      "text/html": [
       "<div>\n",
       "<style scoped>\n",
       "    .dataframe tbody tr th:only-of-type {\n",
       "        vertical-align: middle;\n",
       "    }\n",
       "\n",
       "    .dataframe tbody tr th {\n",
       "        vertical-align: top;\n",
       "    }\n",
       "\n",
       "    .dataframe thead th {\n",
       "        text-align: right;\n",
       "    }\n",
       "</style>\n",
       "<table border=\"1\" class=\"dataframe\">\n",
       "  <thead>\n",
       "    <tr style=\"text-align: right;\">\n",
       "      <th></th>\n",
       "      <th>timestamp_forecast_update</th>\n",
       "      <th>timestamp_forecast</th>\n",
       "      <th>predict_hour</th>\n",
       "      <th>persist_hour</th>\n",
       "      <th>hour</th>\n",
       "    </tr>\n",
       "  </thead>\n",
       "  <tbody>\n",
       "    <tr>\n",
       "      <th>0</th>\n",
       "      <td>2019-09-13</td>\n",
       "      <td>2019-09-13</td>\n",
       "      <td>12.453467</td>\n",
       "      <td>3</td>\n",
       "      <td>16</td>\n",
       "    </tr>\n",
       "    <tr>\n",
       "      <th>1</th>\n",
       "      <td>2019-09-14</td>\n",
       "      <td>2019-09-14</td>\n",
       "      <td>2.819761</td>\n",
       "      <td>0</td>\n",
       "      <td>0</td>\n",
       "    </tr>\n",
       "    <tr>\n",
       "      <th>2</th>\n",
       "      <td>2019-09-15</td>\n",
       "      <td>2019-09-15</td>\n",
       "      <td>10.463637</td>\n",
       "      <td>10</td>\n",
       "      <td>10</td>\n",
       "    </tr>\n",
       "    <tr>\n",
       "      <th>3</th>\n",
       "      <td>2019-09-16</td>\n",
       "      <td>2019-09-16</td>\n",
       "      <td>17.937860</td>\n",
       "      <td>17</td>\n",
       "      <td>15</td>\n",
       "    </tr>\n",
       "    <tr>\n",
       "      <th>4</th>\n",
       "      <td>2019-09-17</td>\n",
       "      <td>2019-09-17</td>\n",
       "      <td>16.607475</td>\n",
       "      <td>15</td>\n",
       "      <td>11</td>\n",
       "    </tr>\n",
       "    <tr>\n",
       "      <th>...</th>\n",
       "      <td>...</td>\n",
       "      <td>...</td>\n",
       "      <td>...</td>\n",
       "      <td>...</td>\n",
       "      <td>...</td>\n",
       "    </tr>\n",
       "    <tr>\n",
       "      <th>101</th>\n",
       "      <td>2019-12-23</td>\n",
       "      <td>2019-12-23</td>\n",
       "      <td>17.561860</td>\n",
       "      <td>16</td>\n",
       "      <td>11</td>\n",
       "    </tr>\n",
       "    <tr>\n",
       "      <th>102</th>\n",
       "      <td>2019-12-24</td>\n",
       "      <td>2019-12-24</td>\n",
       "      <td>17.283602</td>\n",
       "      <td>17</td>\n",
       "      <td>17</td>\n",
       "    </tr>\n",
       "    <tr>\n",
       "      <th>103</th>\n",
       "      <td>2019-12-25</td>\n",
       "      <td>2019-12-25</td>\n",
       "      <td>13.948132</td>\n",
       "      <td>12</td>\n",
       "      <td>17</td>\n",
       "    </tr>\n",
       "    <tr>\n",
       "      <th>104</th>\n",
       "      <td>2019-12-26</td>\n",
       "      <td>2019-12-26</td>\n",
       "      <td>11.913560</td>\n",
       "      <td>18</td>\n",
       "      <td>0</td>\n",
       "    </tr>\n",
       "    <tr>\n",
       "      <th>105</th>\n",
       "      <td>2019-12-27</td>\n",
       "      <td>2019-12-27</td>\n",
       "      <td>11.637980</td>\n",
       "      <td>0</td>\n",
       "      <td>11</td>\n",
       "    </tr>\n",
       "  </tbody>\n",
       "</table>\n",
       "<p>106 rows × 5 columns</p>\n",
       "</div>"
      ],
      "text/plain": [
       "    timestamp_forecast_update timestamp_forecast  predict_hour  persist_hour  \\\n",
       "0                  2019-09-13         2019-09-13     12.453467             3   \n",
       "1                  2019-09-14         2019-09-14      2.819761             0   \n",
       "2                  2019-09-15         2019-09-15     10.463637            10   \n",
       "3                  2019-09-16         2019-09-16     17.937860            17   \n",
       "4                  2019-09-17         2019-09-17     16.607475            15   \n",
       "..                        ...                ...           ...           ...   \n",
       "101                2019-12-23         2019-12-23     17.561860            16   \n",
       "102                2019-12-24         2019-12-24     17.283602            17   \n",
       "103                2019-12-25         2019-12-25     13.948132            12   \n",
       "104                2019-12-26         2019-12-26     11.913560            18   \n",
       "105                2019-12-27         2019-12-27     11.637980             0   \n",
       "\n",
       "     hour  \n",
       "0      16  \n",
       "1       0  \n",
       "2      10  \n",
       "3      15  \n",
       "4      11  \n",
       "..    ...  \n",
       "101    11  \n",
       "102    17  \n",
       "103    17  \n",
       "104     0  \n",
       "105    11  \n",
       "\n",
       "[106 rows x 5 columns]"
      ]
     },
     "execution_count": 43,
     "metadata": {},
     "output_type": "execute_result"
    }
   ],
   "source": [
    "import pandas as pd\n",
    "\n",
    "proj_dir = r'C:/Users/Admin/Code/PROPHET-Load_LSTM/'\n",
    "out_dir = r'data/output/impianto_4/peakhour/hpsearch-test/'\n",
    "#out_dir = r'data/output/impianto_4/peakhour/u72_nb192_d2/'\n",
    "#out_dir = r'data/output/zeh/peak/u144_nb672_d2/'\n",
    "\n",
    "forecast_filename = 'test_forecasts_u72_nb120_d0.0.csv'\n",
    "\n",
    "df = pd.read_csv(proj_dir + out_dir + forecast_filename,\n",
    "                 index_col=0,\n",
    "                 parse_dates=['timestamp_forecast_update','timestamp_forecast'])\n",
    "\n",
    "df = df.rename(columns={'PotenzaDailyPeakHour':'hour',\n",
    "                        'predicted_activepower_ev_1':'predict_hour',\n",
    "                        'persist':'persist_hour'})\n",
    "\n",
    "df.hour = df.hour.astype(int)\n",
    "df.persist_hour = df.persist_hour.astype(int)\n",
    "\n",
    "df #.describe()"
   ]
  },
  {
   "cell_type": "code",
   "execution_count": 44,
   "id": "1f4f8395",
   "metadata": {},
   "outputs": [],
   "source": [
    "df = df.set_index('timestamp_forecast_update')\n",
    "\n",
    "df = df[['predict_hour','persist_hour','hour']]\n",
    "df['predict_hour_trn'] = [int(x) for x in df.predict_hour]\n",
    "df['predict_hour_rnd'] = [int(round(x,0)) for x in df.predict_hour]\n",
    "\n",
    "df.predict_hour_trn = df.predict_hour_trn.astype(int)\n",
    "df.predict_hour_rnd = df.predict_hour_rnd.astype(int)\n",
    "\n",
    "dfp = df.copy()"
   ]
  },
  {
   "cell_type": "markdown",
   "id": "1bb5c54a",
   "metadata": {},
   "source": [
    "Truncate"
   ]
  },
  {
   "cell_type": "code",
   "execution_count": 45,
   "id": "52a363c3",
   "metadata": {},
   "outputs": [
    {
     "name": "stdout",
     "output_type": "stream",
     "text": [
      "ACC%: pers=12.26 pred=16.98\n",
      "Skill%: 27.78\n"
     ]
    }
   ],
   "source": [
    "acc_pers = (dfp.hour == dfp.persist_hour).sum() / len(dfp)\n",
    "acc_pred = (dfp.hour == dfp.predict_hour_trn).sum() / len(dfp)\n",
    "skill = 1 - acc_pers / acc_pred\n",
    "\n",
    "print(f'ACC%: pers={100*acc_pers:.2f} pred={100*acc_pred:.2f}')\n",
    "print(f'Skill%: {100*skill:.2f}')"
   ]
  },
  {
   "cell_type": "markdown",
   "id": "3a9014ca",
   "metadata": {},
   "source": [
    "Round"
   ]
  },
  {
   "cell_type": "code",
   "execution_count": 46,
   "id": "2cf04ca3",
   "metadata": {},
   "outputs": [
    {
     "name": "stdout",
     "output_type": "stream",
     "text": [
      "ACC%: pers=12.26 pred=11.32\n",
      "Skill%: -8.33\n"
     ]
    }
   ],
   "source": [
    "acc_pers = (dfp.hour == dfp.persist_hour).sum() / len(dfp)\n",
    "acc_pred = (dfp.hour == dfp.predict_hour_rnd).sum() / len(dfp)\n",
    "skill = 1 - acc_pers / acc_pred\n",
    "\n",
    "print(f'ACC%: pers={100*acc_pers:.2f} pred={100*acc_pred:.2f}')\n",
    "print(f'Skill%: {100*skill:.2f}')"
   ]
  }
 ],
 "metadata": {
  "kernelspec": {
   "display_name": "base",
   "language": "python",
   "name": "python3"
  },
  "language_info": {
   "codemirror_mode": {
    "name": "ipython",
    "version": 3
   },
   "file_extension": ".py",
   "mimetype": "text/x-python",
   "name": "python",
   "nbconvert_exporter": "python",
   "pygments_lexer": "ipython3",
   "version": "3.11.9"
  }
 },
 "nbformat": 4,
 "nbformat_minor": 5
}
