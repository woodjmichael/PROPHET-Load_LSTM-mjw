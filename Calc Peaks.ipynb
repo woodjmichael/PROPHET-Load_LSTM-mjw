{
 "cells": [
  {
   "cell_type": "markdown",
   "id": "1f1e8477",
   "metadata": {},
   "source": [
    "# Impianto 4"
   ]
  },
  {
   "cell_type": "code",
   "execution_count": null,
   "id": "f2c2c5f0",
   "metadata": {},
   "outputs": [],
   "source": [
    "import pandas as pd\n",
    "\n",
    "df = pd.read_csv('data\\input\\Impianto_4_clean_emd.csv',\n",
    "                 index_col=0,\n",
    "                 parse_dates=True,\n",
    "                 comment='#')\n",
    "\n",
    "df.describe().T"
   ]
  },
  {
   "cell_type": "code",
   "execution_count": 4,
   "id": "828647e5",
   "metadata": {},
   "outputs": [
    {
     "name": "stdout",
     "output_type": "stream",
     "text": [
      "<class 'pandas.core.frame.DataFrame'>\n",
      "DatetimeIndex: 105120 entries, 2017-01-01 00:00:00 to 2019-12-31 23:45:00\n",
      "Data columns (total 16 columns):\n",
      " #   Column                Non-Null Count   Dtype  \n",
      "---  ------                --------------   -----  \n",
      " 0   Potenza               105120 non-null  float64\n",
      " 1   Potenza25kW           105120 non-null  float64\n",
      " 2   IMF1                  105120 non-null  float64\n",
      " 3   IMF2                  105120 non-null  float64\n",
      " 4   IMF3                  105120 non-null  float64\n",
      " 5   IMF4                  105120 non-null  float64\n",
      " 6   IMF5                  105120 non-null  float64\n",
      " 7   IMF6                  105120 non-null  float64\n",
      " 8   IMF7                  105120 non-null  float64\n",
      " 9   IMF8                  105120 non-null  float64\n",
      " 10  IMF9                  105120 non-null  float64\n",
      " 11  IMF10                 105120 non-null  float64\n",
      " 12  IMF11                 105120 non-null  float64\n",
      " 13  IMF12                 105120 non-null  float64\n",
      " 14  PotenzaDailyPeak      105120 non-null  float64\n",
      " 15  PotenzaDailyPeakHour  105120 non-null  int32  \n",
      "dtypes: float64(15), int32(1)\n",
      "memory usage: 17.3 MB\n"
     ]
    }
   ],
   "source": [
    "dfmax = df.resample('1d').max()\n",
    "df.loc[dfmax.index,'PotenzaDailyPeak'] = dfmax.Potenza.values\n",
    "\n",
    "dfmaxhour = df.resample('1d').apply(lambda x: x['Potenza'].idxmax().hour)\n",
    "df.loc[dfmaxhour.index,'PotenzaDailyPeakHour'] = dfmaxhour.values\n",
    "\n",
    "df = df.ffill()\n",
    "\n",
    "df.PotenzaDailyPeakHour = df.PotenzaDailyPeakHour.astype(int)\n",
    "\n",
    "df.info()"
   ]
  },
  {
   "cell_type": "code",
   "execution_count": null,
   "id": "18a520da",
   "metadata": {},
   "outputs": [],
   "source": [
    "#df.to_csv('data/input/Impianto_4_clean_emd_peaks.csv')"
   ]
  },
  {
   "cell_type": "markdown",
   "id": "0f83f9a4",
   "metadata": {},
   "source": [
    "# ZEH"
   ]
  },
  {
   "cell_type": "code",
   "execution_count": 29,
   "id": "5914352c",
   "metadata": {},
   "outputs": [],
   "source": [
    "import pandas as pd\n",
    "\n",
    "df = pd.read_csv('data/input/HabitatZEH_60min_2016-2019.csv',\n",
    "                 index_col=0,\n",
    "                 parse_dates=True)\n",
    "\n",
    "\n",
    "df.describe().T\n",
    "\n",
    "# Need to start on hour 0 for the indices of dfmax to have somewhere to go\n",
    "first_row = df.iloc[0] # Get the first row data\n",
    "new_index = df.index[0] - pd.Timedelta(hours=1) # Create new index one hour earlier\n",
    "df.loc[new_index] = first_row # Add the new row to the dataframe\n",
    "df.sort_index(inplace=True) # Sort index to put new row at the beginning"
   ]
  },
  {
   "cell_type": "code",
   "execution_count": 30,
   "id": "188a166f",
   "metadata": {},
   "outputs": [
    {
     "name": "stdout",
     "output_type": "stream",
     "text": [
      "<class 'pandas.core.frame.DataFrame'>\n",
      "DatetimeIndex: 35064 entries, 2016-01-01 00:00:00 to 2019-12-31 23:00:00\n",
      "Data columns (total 35 columns):\n",
      " #   Column             Non-Null Count  Dtype  \n",
      "---  ------             --------------  -----  \n",
      " 0   Etot               35064 non-null  float64\n",
      " 1   Ihor               35064 non-null  float64\n",
      " 2   Icoll              35064 non-null  float64\n",
      " 3   Tamb               35064 non-null  float64\n",
      " 4   Rhamb              35064 non-null  float64\n",
      " 5   WS                 35064 non-null  float64\n",
      " 6   TsolIn             35064 non-null  float64\n",
      " 7   TsolOut            35064 non-null  float64\n",
      " 8   Ttank              35064 non-null  float64\n",
      " 9   Tliving            35064 non-null  float64\n",
      " 10  TbrNW              35064 non-null  float64\n",
      " 11  TbrSW              35064 non-null  float64\n",
      " 12  Textra1            35064 non-null  float64\n",
      " 13  Textra2            35064 non-null  float64\n",
      " 14  Textra3            35064 non-null  float64\n",
      " 15  Textra4            35064 non-null  float64\n",
      " 16  Emsc1              35064 non-null  float64\n",
      " 17  Emsc2              35064 non-null  float64\n",
      " 18  Epv                35064 non-null  float64\n",
      " 19  Elite              35064 non-null  float64\n",
      " 20  Epump              35064 non-null  float64\n",
      " 21  Ehtrs              35064 non-null  float64\n",
      " 22  Ewatr              35064 non-null  float64\n",
      " 23  Erang              35064 non-null  float64\n",
      " 24  Eerv               35064 non-null  float64\n",
      " 25  Extra              35064 non-null  float64\n",
      " 26  GwtrH              35064 non-null  float64\n",
      " 27  GspcH              35064 non-null  float64\n",
      " 28  FhWtr              35064 non-null  float64\n",
      " 29  FDTsol             35064 non-null  float64\n",
      " 30  Tlogger            35064 non-null  float64\n",
      " 31  Vlogger            35064 non-null  float64\n",
      " 32  Tref               35064 non-null  float64\n",
      " 33  EtotDailyPeak      35064 non-null  float64\n",
      " 34  EtotDailyPeakHour  35064 non-null  int64  \n",
      "dtypes: float64(34), int64(1)\n",
      "memory usage: 10.6 MB\n"
     ]
    }
   ],
   "source": [
    "dfmax = df.resample('1d').max()\n",
    "df.loc[dfmax.index,'EtotDailyPeak'] = dfmax.Etot.values\n",
    "\n",
    "dfmaxhour = df.resample('1d').apply(lambda x: x['Etot'].idxmax().hour)\n",
    "df.loc[dfmaxhour.index,'EtotDailyPeakHour'] = dfmaxhour.values\n",
    "\n",
    "df = df.ffill()\n",
    "\n",
    "df.EtotDailyPeakHour = df.EtotDailyPeakHour.astype(int)\n",
    "\n",
    "df.info()"
   ]
  },
  {
   "cell_type": "code",
   "execution_count": 31,
   "id": "029ef0df",
   "metadata": {},
   "outputs": [],
   "source": [
    "# df.to_csv('data/input/HabitahZEH_60min_2016-2019_peaks.csv')"
   ]
  },
  {
   "cell_type": "code",
   "execution_count": 32,
   "id": "16eb244e",
   "metadata": {},
   "outputs": [
    {
     "data": {
      "text/html": [
       "<div>\n",
       "<style scoped>\n",
       "    .dataframe tbody tr th:only-of-type {\n",
       "        vertical-align: middle;\n",
       "    }\n",
       "\n",
       "    .dataframe tbody tr th {\n",
       "        vertical-align: top;\n",
       "    }\n",
       "\n",
       "    .dataframe thead th {\n",
       "        text-align: right;\n",
       "    }\n",
       "</style>\n",
       "<table border=\"1\" class=\"dataframe\">\n",
       "  <thead>\n",
       "    <tr style=\"text-align: right;\">\n",
       "      <th></th>\n",
       "      <th>Etot</th>\n",
       "      <th>Tamb</th>\n",
       "      <th>TambForecast</th>\n",
       "      <th>EtotPeakHour</th>\n",
       "    </tr>\n",
       "  </thead>\n",
       "  <tbody>\n",
       "    <tr>\n",
       "      <th>2016-01-01</th>\n",
       "      <td>1.946</td>\n",
       "      <td>4.464</td>\n",
       "      <td>NaN</td>\n",
       "      <td>21</td>\n",
       "    </tr>\n",
       "    <tr>\n",
       "      <th>2016-01-02</th>\n",
       "      <td>2.170</td>\n",
       "      <td>7.610</td>\n",
       "      <td>4.464</td>\n",
       "      <td>12</td>\n",
       "    </tr>\n",
       "    <tr>\n",
       "      <th>2016-01-03</th>\n",
       "      <td>1.797</td>\n",
       "      <td>9.550</td>\n",
       "      <td>7.610</td>\n",
       "      <td>21</td>\n",
       "    </tr>\n",
       "    <tr>\n",
       "      <th>2016-01-04</th>\n",
       "      <td>2.061</td>\n",
       "      <td>8.730</td>\n",
       "      <td>9.550</td>\n",
       "      <td>13</td>\n",
       "    </tr>\n",
       "    <tr>\n",
       "      <th>2016-01-05</th>\n",
       "      <td>1.822</td>\n",
       "      <td>8.890</td>\n",
       "      <td>8.730</td>\n",
       "      <td>8</td>\n",
       "    </tr>\n",
       "    <tr>\n",
       "      <th>...</th>\n",
       "      <td>...</td>\n",
       "      <td>...</td>\n",
       "      <td>...</td>\n",
       "      <td>...</td>\n",
       "    </tr>\n",
       "    <tr>\n",
       "      <th>2019-12-27</th>\n",
       "      <td>0.768</td>\n",
       "      <td>3.533</td>\n",
       "      <td>2.659</td>\n",
       "      <td>18</td>\n",
       "    </tr>\n",
       "    <tr>\n",
       "      <th>2019-12-28</th>\n",
       "      <td>0.563</td>\n",
       "      <td>-1.272</td>\n",
       "      <td>3.533</td>\n",
       "      <td>7</td>\n",
       "    </tr>\n",
       "    <tr>\n",
       "      <th>2019-12-29</th>\n",
       "      <td>0.537</td>\n",
       "      <td>0.425</td>\n",
       "      <td>-1.272</td>\n",
       "      <td>18</td>\n",
       "    </tr>\n",
       "    <tr>\n",
       "      <th>2019-12-30</th>\n",
       "      <td>0.472</td>\n",
       "      <td>3.589</td>\n",
       "      <td>0.425</td>\n",
       "      <td>22</td>\n",
       "    </tr>\n",
       "    <tr>\n",
       "      <th>2019-12-31</th>\n",
       "      <td>1.160</td>\n",
       "      <td>8.650</td>\n",
       "      <td>3.589</td>\n",
       "      <td>19</td>\n",
       "    </tr>\n",
       "  </tbody>\n",
       "</table>\n",
       "<p>1461 rows × 4 columns</p>\n",
       "</div>"
      ],
      "text/plain": [
       "             Etot   Tamb  TambForecast  EtotPeakHour\n",
       "2016-01-01  1.946  4.464           NaN            21\n",
       "2016-01-02  2.170  7.610         4.464            12\n",
       "2016-01-03  1.797  9.550         7.610            21\n",
       "2016-01-04  2.061  8.730         9.550            13\n",
       "2016-01-05  1.822  8.890         8.730             8\n",
       "...           ...    ...           ...           ...\n",
       "2019-12-27  0.768  3.533         2.659            18\n",
       "2019-12-28  0.563 -1.272         3.533             7\n",
       "2019-12-29  0.537  0.425        -1.272            18\n",
       "2019-12-30  0.472  3.589         0.425            22\n",
       "2019-12-31  1.160  8.650         3.589            19\n",
       "\n",
       "[1461 rows x 4 columns]"
      ]
     },
     "execution_count": 32,
     "metadata": {},
     "output_type": "execute_result"
    }
   ],
   "source": [
    "dfp = df[['Etot','Tamb']].resample('1d').max() #.corr()['Etot'].sort_values()\n",
    "dfp['TambForecast'] = dfp.Tamb.shift(1)\n",
    "dfp['EtotPeakHour'] = df.resample('1d').apply(lambda x: x['Etot'].idxmax().hour)\n",
    "dfp"
   ]
  },
  {
   "cell_type": "code",
   "execution_count": 34,
   "id": "189fe429",
   "metadata": {},
   "outputs": [],
   "source": [
    "dfp = dfp.bfill()"
   ]
  },
  {
   "cell_type": "code",
   "execution_count": null,
   "id": "62599cf4",
   "metadata": {},
   "outputs": [],
   "source": [
    "#dfp.to_csv('data/input/HabitahZEH_60min_2016-2019_peaks_1d.csv')"
   ]
  }
 ],
 "metadata": {
  "kernelspec": {
   "display_name": "base",
   "language": "python",
   "name": "python3"
  },
  "language_info": {
   "codemirror_mode": {
    "name": "ipython",
    "version": 3
   },
   "file_extension": ".py",
   "mimetype": "text/x-python",
   "name": "python",
   "nbconvert_exporter": "python",
   "pygments_lexer": "ipython3",
   "version": "3.11.8"
  }
 },
 "nbformat": 4,
 "nbformat_minor": 5
}
