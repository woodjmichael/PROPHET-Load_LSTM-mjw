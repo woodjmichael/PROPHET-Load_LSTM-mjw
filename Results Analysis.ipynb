{
 "cells": [
  {
   "cell_type": "code",
   "execution_count": 1,
   "id": "d820fe88",
   "metadata": {},
   "outputs": [],
   "source": [
    "import pandas as pd"
   ]
  },
  {
   "cell_type": "code",
   "execution_count": 2,
   "id": "b1f8484a",
   "metadata": {},
   "outputs": [
    {
     "data": {
      "text/html": [
       "<div>\n",
       "<style scoped>\n",
       "    .dataframe tbody tr th:only-of-type {\n",
       "        vertical-align: middle;\n",
       "    }\n",
       "\n",
       "    .dataframe tbody tr th {\n",
       "        vertical-align: top;\n",
       "    }\n",
       "\n",
       "    .dataframe thead th {\n",
       "        text-align: right;\n",
       "    }\n",
       "</style>\n",
       "<table border=\"1\" class=\"dataframe\">\n",
       "  <thead>\n",
       "    <tr style=\"text-align: right;\">\n",
       "      <th></th>\n",
       "      <th>timestamp_forecast_update</th>\n",
       "      <th>timestamp_forecast</th>\n",
       "      <th>predicted_activepower_ev_1</th>\n",
       "      <th>persist</th>\n",
       "      <th>power</th>\n",
       "    </tr>\n",
       "  </thead>\n",
       "  <tbody>\n",
       "    <tr>\n",
       "      <th>0</th>\n",
       "      <td>2019-09-13</td>\n",
       "      <td>2019-09-13 00:00:00</td>\n",
       "      <td>0.502984</td>\n",
       "      <td>0.532304</td>\n",
       "      <td>0.492086</td>\n",
       "    </tr>\n",
       "    <tr>\n",
       "      <th>1</th>\n",
       "      <td>2019-09-13</td>\n",
       "      <td>2019-09-13 00:15:00</td>\n",
       "      <td>0.514379</td>\n",
       "      <td>0.518296</td>\n",
       "      <td>0.494710</td>\n",
       "    </tr>\n",
       "    <tr>\n",
       "      <th>2</th>\n",
       "      <td>2019-09-13</td>\n",
       "      <td>2019-09-13 00:30:00</td>\n",
       "      <td>0.513596</td>\n",
       "      <td>0.532065</td>\n",
       "      <td>0.486937</td>\n",
       "    </tr>\n",
       "    <tr>\n",
       "      <th>3</th>\n",
       "      <td>2019-09-13</td>\n",
       "      <td>2019-09-13 00:45:00</td>\n",
       "      <td>0.515385</td>\n",
       "      <td>0.515139</td>\n",
       "      <td>0.498701</td>\n",
       "    </tr>\n",
       "    <tr>\n",
       "      <th>4</th>\n",
       "      <td>2019-09-13</td>\n",
       "      <td>2019-09-13 01:00:00</td>\n",
       "      <td>0.522004</td>\n",
       "      <td>0.522850</td>\n",
       "      <td>0.486603</td>\n",
       "    </tr>\n",
       "    <tr>\n",
       "      <th>...</th>\n",
       "      <td>...</td>\n",
       "      <td>...</td>\n",
       "      <td>...</td>\n",
       "      <td>...</td>\n",
       "      <td>...</td>\n",
       "    </tr>\n",
       "    <tr>\n",
       "      <th>366475</th>\n",
       "      <td>2019-12-28</td>\n",
       "      <td>2019-12-29 10:45:00</td>\n",
       "      <td>0.486783</td>\n",
       "      <td>0.457513</td>\n",
       "      <td>0.544211</td>\n",
       "    </tr>\n",
       "    <tr>\n",
       "      <th>366476</th>\n",
       "      <td>2019-12-28</td>\n",
       "      <td>2019-12-29 11:00:00</td>\n",
       "      <td>0.483764</td>\n",
       "      <td>0.418077</td>\n",
       "      <td>0.536340</td>\n",
       "    </tr>\n",
       "    <tr>\n",
       "      <th>366477</th>\n",
       "      <td>2019-12-28</td>\n",
       "      <td>2019-12-29 11:15:00</td>\n",
       "      <td>0.480464</td>\n",
       "      <td>0.412273</td>\n",
       "      <td>0.513695</td>\n",
       "    </tr>\n",
       "    <tr>\n",
       "      <th>366478</th>\n",
       "      <td>2019-12-28</td>\n",
       "      <td>2019-12-29 11:30:00</td>\n",
       "      <td>0.476945</td>\n",
       "      <td>0.372541</td>\n",
       "      <td>0.502188</td>\n",
       "    </tr>\n",
       "    <tr>\n",
       "      <th>366479</th>\n",
       "      <td>2019-12-28</td>\n",
       "      <td>2019-12-29 11:45:00</td>\n",
       "      <td>0.473339</td>\n",
       "      <td>0.316706</td>\n",
       "      <td>0.485146</td>\n",
       "    </tr>\n",
       "  </tbody>\n",
       "</table>\n",
       "<p>366480 rows × 5 columns</p>\n",
       "</div>"
      ],
      "text/plain": [
       "       timestamp_forecast_update  timestamp_forecast  \\\n",
       "0                     2019-09-13 2019-09-13 00:00:00   \n",
       "1                     2019-09-13 2019-09-13 00:15:00   \n",
       "2                     2019-09-13 2019-09-13 00:30:00   \n",
       "3                     2019-09-13 2019-09-13 00:45:00   \n",
       "4                     2019-09-13 2019-09-13 01:00:00   \n",
       "...                          ...                 ...   \n",
       "366475                2019-12-28 2019-12-29 10:45:00   \n",
       "366476                2019-12-28 2019-12-29 11:00:00   \n",
       "366477                2019-12-28 2019-12-29 11:15:00   \n",
       "366478                2019-12-28 2019-12-29 11:30:00   \n",
       "366479                2019-12-28 2019-12-29 11:45:00   \n",
       "\n",
       "        predicted_activepower_ev_1   persist     power  \n",
       "0                         0.502984  0.532304  0.492086  \n",
       "1                         0.514379  0.518296  0.494710  \n",
       "2                         0.513596  0.532065  0.486937  \n",
       "3                         0.515385  0.515139  0.498701  \n",
       "4                         0.522004  0.522850  0.486603  \n",
       "...                            ...       ...       ...  \n",
       "366475                    0.486783  0.457513  0.544211  \n",
       "366476                    0.483764  0.418077  0.536340  \n",
       "366477                    0.480464  0.412273  0.513695  \n",
       "366478                    0.476945  0.372541  0.502188  \n",
       "366479                    0.473339  0.316706  0.485146  \n",
       "\n",
       "[366480 rows x 5 columns]"
      ]
     },
     "execution_count": 2,
     "metadata": {},
     "output_type": "execute_result"
    }
   ],
   "source": [
    "forecasts = pd.read_csv(r'C:\\Users\\Admin\\Code\\PROPHET-Load_LSTM\\data\\output\\impianto_4\\test_forecasts.csv',\n",
    "                        index_col=0,\n",
    "                        parse_dates=['timestamp_forecast_update','timestamp_forecast'])\n",
    "forecasts"
   ]
  },
  {
   "cell_type": "markdown",
   "id": "9b422118",
   "metadata": {},
   "source": [
    "Timesteps where persistence forecast is perfect"
   ]
  },
  {
   "cell_type": "code",
   "execution_count": 3,
   "id": "a44ce411",
   "metadata": {},
   "outputs": [
    {
     "data": {
      "text/html": [
       "<div>\n",
       "<style scoped>\n",
       "    .dataframe tbody tr th:only-of-type {\n",
       "        vertical-align: middle;\n",
       "    }\n",
       "\n",
       "    .dataframe tbody tr th {\n",
       "        vertical-align: top;\n",
       "    }\n",
       "\n",
       "    .dataframe thead th {\n",
       "        text-align: right;\n",
       "    }\n",
       "</style>\n",
       "<table border=\"1\" class=\"dataframe\">\n",
       "  <thead>\n",
       "    <tr style=\"text-align: right;\">\n",
       "      <th></th>\n",
       "      <th>timestamp_forecast_update</th>\n",
       "      <th>timestamp_forecast</th>\n",
       "      <th>predicted_activepower_ev_1</th>\n",
       "      <th>persist</th>\n",
       "      <th>power</th>\n",
       "    </tr>\n",
       "  </thead>\n",
       "  <tbody>\n",
       "  </tbody>\n",
       "</table>\n",
       "</div>"
      ],
      "text/plain": [
       "Empty DataFrame\n",
       "Columns: [timestamp_forecast_update, timestamp_forecast, predicted_activepower_ev_1, persist, power]\n",
       "Index: []"
      ]
     },
     "execution_count": 3,
     "metadata": {},
     "output_type": "execute_result"
    }
   ],
   "source": [
    "forecasts.loc[(forecasts.persist-forecasts.power)==0,:]"
   ]
  },
  {
   "cell_type": "markdown",
   "id": "37af1eb7",
   "metadata": {},
   "source": [
    "nMAEs and skill"
   ]
  },
  {
   "cell_type": "code",
   "execution_count": 4,
   "id": "01f1c79a",
   "metadata": {},
   "outputs": [],
   "source": [
    "test_mae_pers = forecasts.loc[:,['persist','power']].diff(axis=1).power.abs().mean()\n",
    "test_mae_pred = forecasts.loc[:,['predicted_activepower_ev_1','power']].diff(axis=1).power.abs().mean()        \n",
    "test_skill = 1 - test_mae_pred / test_mae_pers"
   ]
  },
  {
   "cell_type": "code",
   "execution_count": 5,
   "id": "319d312c",
   "metadata": {},
   "outputs": [
    {
     "data": {
      "text/plain": [
       "(0.04554201438388686, 0.041466366937981905, 0.08949203281941243)"
      ]
     },
     "execution_count": 5,
     "metadata": {},
     "output_type": "execute_result"
    }
   ],
   "source": [
    "test_mae_pers,test_mae_pred,test_skill"
   ]
  },
  {
   "cell_type": "markdown",
   "id": "ae5ca336",
   "metadata": {},
   "source": [
    "Percentage of postive daily skills"
   ]
  },
  {
   "cell_type": "code",
   "execution_count": 6,
   "id": "b6bb6e62",
   "metadata": {},
   "outputs": [
    {
     "data": {
      "text/plain": [
       "54.656188605108056"
      ]
     },
     "execution_count": 6,
     "metadata": {},
     "output_type": "execute_result"
    }
   ],
   "source": [
    "skills = pd.Series()\n",
    "for t in forecasts.timestamp_forecast_update.unique():\n",
    "    forecast_now = forecasts.loc[forecasts.timestamp_forecast_update==t]\n",
    "    test_mae_pers_now = forecast_now.loc[:,['persist','power']].diff(axis=1).power.abs().mean()\n",
    "    test_mae_pred_now = forecast_now.loc[:,['predicted_activepower_ev_1','power']].diff(axis=1).power.abs().mean()        \n",
    "    test_skill_now = 1 - test_mae_pred_now / test_mae_pers_now\n",
    "    skills.loc[len(skills)] = test_skill_now\n",
    "    \n",
    "skills[skills>0].count()/len(skills)*100\n"
   ]
  }
 ],
 "metadata": {
  "kernelspec": {
   "display_name": "base",
   "language": "python",
   "name": "python3"
  },
  "language_info": {
   "codemirror_mode": {
    "name": "ipython",
    "version": 3
   },
   "file_extension": ".py",
   "mimetype": "text/x-python",
   "name": "python",
   "nbconvert_exporter": "python",
   "pygments_lexer": "ipython3",
   "version": "3.11.9"
  }
 },
 "nbformat": 4,
 "nbformat_minor": 5
}
